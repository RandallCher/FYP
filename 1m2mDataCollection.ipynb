{
 "cells": [
  {
   "cell_type": "code",
   "execution_count": 608,
   "metadata": {},
   "outputs": [],
   "source": [
    "import pandas as pd\n",
    "import numpy as np\n",
    "import matplotlib.pyplot as plt\n",
    "\n",
    "from scipy.optimize import curve_fit\n",
    "from scipy.interpolate import make_interp_spline\n",
    "from scipy import stats\n",
    "\n",
    "import seaborn as sns\n"
   ]
  },
  {
   "cell_type": "code",
   "execution_count": 609,
   "metadata": {},
   "outputs": [],
   "source": [
    "Data_Directory = './Data/1m2mreadings'\n",
    "\n",
    "file = Data_Directory + '/rssi_data_20240930_141845_1m.csv'"
   ]
  },
  {
   "cell_type": "code",
   "execution_count": 610,
   "metadata": {},
   "outputs": [
    {
     "data": {
      "text/html": [
       "<div>\n",
       "<style scoped>\n",
       "    .dataframe tbody tr th:only-of-type {\n",
       "        vertical-align: middle;\n",
       "    }\n",
       "\n",
       "    .dataframe tbody tr th {\n",
       "        vertical-align: top;\n",
       "    }\n",
       "\n",
       "    .dataframe thead th {\n",
       "        text-align: right;\n",
       "    }\n",
       "</style>\n",
       "<table border=\"1\" class=\"dataframe\">\n",
       "  <thead>\n",
       "    <tr style=\"text-align: right;\">\n",
       "      <th></th>\n",
       "      <th>Timestamp</th>\n",
       "      <th>RSSI</th>\n",
       "    </tr>\n",
       "  </thead>\n",
       "  <tbody>\n",
       "    <tr>\n",
       "      <th>0</th>\n",
       "      <td>294441</td>\n",
       "      <td>-72</td>\n",
       "    </tr>\n",
       "    <tr>\n",
       "      <th>1</th>\n",
       "      <td>294449</td>\n",
       "      <td>-72</td>\n",
       "    </tr>\n",
       "    <tr>\n",
       "      <th>2</th>\n",
       "      <td>294452</td>\n",
       "      <td>-72</td>\n",
       "    </tr>\n",
       "    <tr>\n",
       "      <th>3</th>\n",
       "      <td>294458</td>\n",
       "      <td>0</td>\n",
       "    </tr>\n",
       "    <tr>\n",
       "      <th>4</th>\n",
       "      <td>294465</td>\n",
       "      <td>-71</td>\n",
       "    </tr>\n",
       "    <tr>\n",
       "      <th>...</th>\n",
       "      <td>...</td>\n",
       "      <td>...</td>\n",
       "    </tr>\n",
       "    <tr>\n",
       "      <th>1159</th>\n",
       "      <td>306262</td>\n",
       "      <td>-76</td>\n",
       "    </tr>\n",
       "    <tr>\n",
       "      <th>1160</th>\n",
       "      <td>306274</td>\n",
       "      <td>-80</td>\n",
       "    </tr>\n",
       "    <tr>\n",
       "      <th>1161</th>\n",
       "      <td>306286</td>\n",
       "      <td>-75</td>\n",
       "    </tr>\n",
       "    <tr>\n",
       "      <th>1162</th>\n",
       "      <td>306293</td>\n",
       "      <td>-75</td>\n",
       "    </tr>\n",
       "    <tr>\n",
       "      <th>1163</th>\n",
       "      <td>306302</td>\n",
       "      <td>-85</td>\n",
       "    </tr>\n",
       "  </tbody>\n",
       "</table>\n",
       "<p>1164 rows × 2 columns</p>\n",
       "</div>"
      ],
      "text/plain": [
       "      Timestamp  RSSI\n",
       "0        294441   -72\n",
       "1        294449   -72\n",
       "2        294452   -72\n",
       "3        294458     0\n",
       "4        294465   -71\n",
       "...         ...   ...\n",
       "1159     306262   -76\n",
       "1160     306274   -80\n",
       "1161     306286   -75\n",
       "1162     306293   -75\n",
       "1163     306302   -85\n",
       "\n",
       "[1164 rows x 2 columns]"
      ]
     },
     "execution_count": 610,
     "metadata": {},
     "output_type": "execute_result"
    }
   ],
   "source": [
    "df = pd.read_csv(file)\n",
    "\n",
    "# Display the first few rows of the DataFrame\n",
    "df"
   ]
  },
  {
   "cell_type": "markdown",
   "metadata": {},
   "source": [
    "#### Drop RSSI = 0 rows and normalise timestamp"
   ]
  },
  {
   "cell_type": "code",
   "execution_count": 611,
   "metadata": {},
   "outputs": [
    {
     "data": {
      "text/html": [
       "<div>\n",
       "<style scoped>\n",
       "    .dataframe tbody tr th:only-of-type {\n",
       "        vertical-align: middle;\n",
       "    }\n",
       "\n",
       "    .dataframe tbody tr th {\n",
       "        vertical-align: top;\n",
       "    }\n",
       "\n",
       "    .dataframe thead th {\n",
       "        text-align: right;\n",
       "    }\n",
       "</style>\n",
       "<table border=\"1\" class=\"dataframe\">\n",
       "  <thead>\n",
       "    <tr style=\"text-align: right;\">\n",
       "      <th></th>\n",
       "      <th>Timestamp</th>\n",
       "      <th>RSSI</th>\n",
       "    </tr>\n",
       "  </thead>\n",
       "  <tbody>\n",
       "    <tr>\n",
       "      <th>0</th>\n",
       "      <td>0</td>\n",
       "      <td>-72</td>\n",
       "    </tr>\n",
       "    <tr>\n",
       "      <th>1</th>\n",
       "      <td>8</td>\n",
       "      <td>-72</td>\n",
       "    </tr>\n",
       "    <tr>\n",
       "      <th>2</th>\n",
       "      <td>11</td>\n",
       "      <td>-72</td>\n",
       "    </tr>\n",
       "    <tr>\n",
       "      <th>4</th>\n",
       "      <td>24</td>\n",
       "      <td>-71</td>\n",
       "    </tr>\n",
       "    <tr>\n",
       "      <th>5</th>\n",
       "      <td>34</td>\n",
       "      <td>-72</td>\n",
       "    </tr>\n",
       "    <tr>\n",
       "      <th>...</th>\n",
       "      <td>...</td>\n",
       "      <td>...</td>\n",
       "    </tr>\n",
       "    <tr>\n",
       "      <th>1159</th>\n",
       "      <td>11821</td>\n",
       "      <td>-76</td>\n",
       "    </tr>\n",
       "    <tr>\n",
       "      <th>1160</th>\n",
       "      <td>11833</td>\n",
       "      <td>-80</td>\n",
       "    </tr>\n",
       "    <tr>\n",
       "      <th>1161</th>\n",
       "      <td>11845</td>\n",
       "      <td>-75</td>\n",
       "    </tr>\n",
       "    <tr>\n",
       "      <th>1162</th>\n",
       "      <td>11852</td>\n",
       "      <td>-75</td>\n",
       "    </tr>\n",
       "    <tr>\n",
       "      <th>1163</th>\n",
       "      <td>11861</td>\n",
       "      <td>-85</td>\n",
       "    </tr>\n",
       "  </tbody>\n",
       "</table>\n",
       "<p>1068 rows × 2 columns</p>\n",
       "</div>"
      ],
      "text/plain": [
       "      Timestamp  RSSI\n",
       "0             0   -72\n",
       "1             8   -72\n",
       "2            11   -72\n",
       "4            24   -71\n",
       "5            34   -72\n",
       "...         ...   ...\n",
       "1159      11821   -76\n",
       "1160      11833   -80\n",
       "1161      11845   -75\n",
       "1162      11852   -75\n",
       "1163      11861   -85\n",
       "\n",
       "[1068 rows x 2 columns]"
      ]
     },
     "execution_count": 611,
     "metadata": {},
     "output_type": "execute_result"
    }
   ],
   "source": [
    "df = df.drop(df[df['RSSI'] == 0].index)\n",
    "\n",
    "# Normalize the Timestamp by subtracting the first value\n",
    "df['Timestamp'] = df['Timestamp'] - df['Timestamp'].iloc[0]\n",
    "\n",
    "# Display the resulting DataFrame\n",
    "df"
   ]
  },
  {
   "cell_type": "code",
   "execution_count": 612,
   "metadata": {},
   "outputs": [
    {
     "data": {
      "image/png": "[encoded data removed]",
      "text/plain": [
       "<Figure size 720x432 with 1 Axes>"
      ]
     },
     "metadata": {
      "needs_background": "light"
     },
     "output_type": "display_data"
    },
    {
     "data": {
      "image/png": "[encoded data removed]",
      "text/plain": [
       "<Figure size 720x432 with 1 Axes>"
      ]
     },
     "metadata": {
      "needs_background": "light"
     },
     "output_type": "display_data"
    }
   ],
   "source": [
    "rssi_counts = df['RSSI'].value_counts().sort_index()\n",
    "\n",
    "# Plot the frequency distribution as a bar plot\n",
    "plt.figure(figsize=(10, 6))\n",
    "plt.bar(rssi_counts.index, rssi_counts.values, color='skyblue')\n",
    "plt.xlim(-100, -0)  \n",
    "plt.ylabel('Frequency')\n",
    "plt.title('Frequency Distribution of RSSI Values 1m ')\n",
    "plt.xticks(rotation=45)  # Rotate x-axis labels for better readability\n",
    "plt.grid(axis='y')\n",
    "\n",
    "# Show the plot\n",
    "plt.show()\n",
    "\n",
    "rssi_values = df['RSSI'] \n",
    "\n",
    "# Set up the plot\n",
    "plt.figure(figsize=(10, 6))\n",
    "\n",
    "# Plot the histogram\n",
    "sns.histplot(rssi_values, kde=False, color='skyblue', stat='density', label='Histogram', alpha=0.6)\n",
    "# Overlay the KDE\n",
    "sns.kdeplot(rssi_values, color='red', label='KDE', linewidth=2)\n",
    "\n",
    "# Final plot settings\n",
    "plt.xlabel('RSSI (dBm)')\n",
    "plt.ylabel('Density')\n",
    "plt.title('Histogram of RSSI Values with KDE Overlay')\n",
    "plt.legend()\n",
    "plt.grid()\n",
    "plt.xlim(-100, 0)  # Adjust based on your data range\n",
    "plt.show()"
   ]
  },
  {
   "cell_type": "code",
   "execution_count": 613,
   "metadata": {},
   "outputs": [
    {
     "name": "stdout",
     "output_type": "stream",
     "text": [
      "Mean RSSI: -77.40636704119851\n",
      "Median RSSI: -77.0\n",
      "Mode RSSI: -76\n",
      "25th Percentile (Q1): -80.0\n",
      "75th Percentile (Q3): -75.0\n"
     ]
    }
   ],
   "source": [
    "mean_rssi = np.mean(rssi_values)\n",
    "median_rssi = np.median(rssi_values)\n",
    "mode_rssi = rssi_values.mode()[0]\n",
    "\n",
    "# Finding the 25th and 75th percentiles\n",
    "q1_rssi = np.percentile(rssi_values, 25)\n",
    "q3_rssi = np.percentile(rssi_values, 75)\n",
    "\n",
    "print(\"Mean RSSI:\", mean_rssi)\n",
    "print(\"Median RSSI:\", median_rssi)\n",
    "print(\"Mode RSSI:\", mode_rssi)\n",
    "print(\"25th Percentile (Q1):\", q1_rssi)\n",
    "print(\"75th Percentile (Q3):\", q3_rssi)"
   ]
  },
  {
   "cell_type": "code",
   "execution_count": 614,
   "metadata": {},
   "outputs": [
    {
     "data": {
      "image/png": "[encoded data removed]",
      "text/plain": [
       "<Figure size 720x432 with 1 Axes>"
      ]
     },
     "metadata": {
      "needs_background": "light"
     },
     "output_type": "display_data"
    }
   ],
   "source": [
    "def sinusoidal(t, A, B, C, D):\n",
    "    return A * np.sin(B * t + C) + D\n",
    "\n",
    "time_ms = df['Timestamp']  # Time in milliseconds\n",
    "time = time_ms / 1000  # Convert to seconds for the fitting\n",
    "\n",
    "\n",
    "# Initial guess for the parameters [Amplitude, Frequency, Phase, Offset]\n",
    "initial_guess = [1, 2 * np.pi, 0, np.mean(rssi_values)]\n",
    "\n",
    "# Perform the curve fitting\n",
    "params, params_covariance = curve_fit(sinusoidal, time, rssi_values, p0=initial_guess)\n",
    "\n",
    "# Plot the original data\n",
    "plt.figure(figsize=(10, 6))\n",
    "plt.scatter(time, rssi_values, label='RSSI Data', color='skyblue', alpha=0.6)\n",
    "\n",
    "# Plot the fitted sinusoidal curve\n",
    "fitted_values = sinusoidal(time, *params)\n",
    "plt.plot(time, fitted_values, label=f'Sinusoidal Fit: A={params[0]:.2f}, B={params[1]:.2f}, C={params[2]:.2f}, D={params[3]:.2f}', color='orange')\n",
    "\n",
    "# Adjust x-axis to show the time between 0 and 1 second\n",
    "plt.xlim(0, 1)\n",
    "\n",
    "# Final plot settings\n",
    "plt.xlabel('Time (s)')\n",
    "plt.ylim(-78,-76)\n",
    "plt.ylabel('RSSI (dBm)')\n",
    "plt.title('RSSI Data with Fitted Sinusoidal Curve 1m')\n",
    "plt.legend()\n",
    "plt.grid()\n",
    "plt.show()"
   ]
  },
  {
   "cell_type": "markdown",
   "metadata": {},
   "source": [
    "## 2m distance"
   ]
  },
  {
   "cell_type": "code",
   "execution_count": 615,
   "metadata": {},
   "outputs": [],
   "source": [
    "\n",
    "file = Data_Directory + '/rssi_data_20240930_141953_2m.csv'\n",
    "\n"
   ]
  },
  {
   "cell_type": "code",
   "execution_count": 616,
   "metadata": {},
   "outputs": [
    {
     "data": {
      "text/html": [
       "<div>\n",
       "<style scoped>\n",
       "    .dataframe tbody tr th:only-of-type {\n",
       "        vertical-align: middle;\n",
       "    }\n",
       "\n",
       "    .dataframe tbody tr th {\n",
       "        vertical-align: top;\n",
       "    }\n",
       "\n",
       "    .dataframe thead th {\n",
       "        text-align: right;\n",
       "    }\n",
       "</style>\n",
       "<table border=\"1\" class=\"dataframe\">\n",
       "  <thead>\n",
       "    <tr style=\"text-align: right;\">\n",
       "      <th></th>\n",
       "      <th>Timestamp</th>\n",
       "      <th>RSSI</th>\n",
       "    </tr>\n",
       "  </thead>\n",
       "  <tbody>\n",
       "    <tr>\n",
       "      <th>0</th>\n",
       "      <td>362500</td>\n",
       "      <td>-85</td>\n",
       "    </tr>\n",
       "    <tr>\n",
       "      <th>1</th>\n",
       "      <td>362508</td>\n",
       "      <td>-86</td>\n",
       "    </tr>\n",
       "    <tr>\n",
       "      <th>2</th>\n",
       "      <td>362517</td>\n",
       "      <td>-88</td>\n",
       "    </tr>\n",
       "    <tr>\n",
       "      <th>3</th>\n",
       "      <td>362530</td>\n",
       "      <td>-86</td>\n",
       "    </tr>\n",
       "    <tr>\n",
       "      <th>4</th>\n",
       "      <td>362536</td>\n",
       "      <td>-86</td>\n",
       "    </tr>\n",
       "    <tr>\n",
       "      <th>...</th>\n",
       "      <td>...</td>\n",
       "      <td>...</td>\n",
       "    </tr>\n",
       "    <tr>\n",
       "      <th>2072</th>\n",
       "      <td>380631</td>\n",
       "      <td>0</td>\n",
       "    </tr>\n",
       "    <tr>\n",
       "      <th>2073</th>\n",
       "      <td>380642</td>\n",
       "      <td>0</td>\n",
       "    </tr>\n",
       "    <tr>\n",
       "      <th>2074</th>\n",
       "      <td>380654</td>\n",
       "      <td>-84</td>\n",
       "    </tr>\n",
       "    <tr>\n",
       "      <th>2075</th>\n",
       "      <td>380667</td>\n",
       "      <td>-87</td>\n",
       "    </tr>\n",
       "    <tr>\n",
       "      <th>2076</th>\n",
       "      <td>380677</td>\n",
       "      <td>-87</td>\n",
       "    </tr>\n",
       "  </tbody>\n",
       "</table>\n",
       "<p>2077 rows × 2 columns</p>\n",
       "</div>"
      ],
      "text/plain": [
       "      Timestamp  RSSI\n",
       "0        362500   -85\n",
       "1        362508   -86\n",
       "2        362517   -88\n",
       "3        362530   -86\n",
       "4        362536   -86\n",
       "...         ...   ...\n",
       "2072     380631     0\n",
       "2073     380642     0\n",
       "2074     380654   -84\n",
       "2075     380667   -87\n",
       "2076     380677   -87\n",
       "\n",
       "[2077 rows x 2 columns]"
      ]
     },
     "execution_count": 616,
     "metadata": {},
     "output_type": "execute_result"
    }
   ],
   "source": [
    "df = pd.read_csv(file)\n",
    "\n",
    "# Display the first few rows of the DataFrame\n",
    "df"
   ]
  },
  {
   "cell_type": "markdown",
   "metadata": {},
   "source": [
    "#### Drop RSSI = 0 rows and normalise timestamp"
   ]
  },
  {
   "cell_type": "code",
   "execution_count": 617,
   "metadata": {},
   "outputs": [
    {
     "data": {
      "text/html": [
       "<div>\n",
       "<style scoped>\n",
       "    .dataframe tbody tr th:only-of-type {\n",
       "        vertical-align: middle;\n",
       "    }\n",
       "\n",
       "    .dataframe tbody tr th {\n",
       "        vertical-align: top;\n",
       "    }\n",
       "\n",
       "    .dataframe thead th {\n",
       "        text-align: right;\n",
       "    }\n",
       "</style>\n",
       "<table border=\"1\" class=\"dataframe\">\n",
       "  <thead>\n",
       "    <tr style=\"text-align: right;\">\n",
       "      <th></th>\n",
       "      <th>Timestamp</th>\n",
       "      <th>RSSI</th>\n",
       "    </tr>\n",
       "  </thead>\n",
       "  <tbody>\n",
       "    <tr>\n",
       "      <th>0</th>\n",
       "      <td>0</td>\n",
       "      <td>-85</td>\n",
       "    </tr>\n",
       "    <tr>\n",
       "      <th>1</th>\n",
       "      <td>8</td>\n",
       "      <td>-86</td>\n",
       "    </tr>\n",
       "    <tr>\n",
       "      <th>2</th>\n",
       "      <td>17</td>\n",
       "      <td>-88</td>\n",
       "    </tr>\n",
       "    <tr>\n",
       "      <th>3</th>\n",
       "      <td>30</td>\n",
       "      <td>-86</td>\n",
       "    </tr>\n",
       "    <tr>\n",
       "      <th>4</th>\n",
       "      <td>36</td>\n",
       "      <td>-86</td>\n",
       "    </tr>\n",
       "    <tr>\n",
       "      <th>...</th>\n",
       "      <td>...</td>\n",
       "      <td>...</td>\n",
       "    </tr>\n",
       "    <tr>\n",
       "      <th>2069</th>\n",
       "      <td>18105</td>\n",
       "      <td>-82</td>\n",
       "    </tr>\n",
       "    <tr>\n",
       "      <th>2071</th>\n",
       "      <td>18121</td>\n",
       "      <td>-84</td>\n",
       "    </tr>\n",
       "    <tr>\n",
       "      <th>2074</th>\n",
       "      <td>18154</td>\n",
       "      <td>-84</td>\n",
       "    </tr>\n",
       "    <tr>\n",
       "      <th>2075</th>\n",
       "      <td>18167</td>\n",
       "      <td>-87</td>\n",
       "    </tr>\n",
       "    <tr>\n",
       "      <th>2076</th>\n",
       "      <td>18177</td>\n",
       "      <td>-87</td>\n",
       "    </tr>\n",
       "  </tbody>\n",
       "</table>\n",
       "<p>1305 rows × 2 columns</p>\n",
       "</div>"
      ],
      "text/plain": [
       "      Timestamp  RSSI\n",
       "0             0   -85\n",
       "1             8   -86\n",
       "2            17   -88\n",
       "3            30   -86\n",
       "4            36   -86\n",
       "...         ...   ...\n",
       "2069      18105   -82\n",
       "2071      18121   -84\n",
       "2074      18154   -84\n",
       "2075      18167   -87\n",
       "2076      18177   -87\n",
       "\n",
       "[1305 rows x 2 columns]"
      ]
     },
     "execution_count": 617,
     "metadata": {},
     "output_type": "execute_result"
    }
   ],
   "source": [
    "df = df.drop(df[df['RSSI'] == 0].index)\n",
    "\n",
    "# Normalize the Timestamp by subtracting the first value\n",
    "df['Timestamp'] = df['Timestamp'] - df['Timestamp'].iloc[0]\n",
    "\n",
    "# Display the resulting DataFrame\n",
    "df\n",
    "\n"
   ]
  },
  {
   "cell_type": "code",
   "execution_count": 618,
   "metadata": {},
   "outputs": [
    {
     "data": {
      "image/png": "[encoded data removed]",
      "text/plain": [
       "<Figure size 720x432 with 1 Axes>"
      ]
     },
     "metadata": {
      "needs_background": "light"
     },
     "output_type": "display_data"
    },
    {
     "data": {
      "image/png": "[encoded data removed]",
      "text/plain": [
       "<Figure size 720x432 with 1 Axes>"
      ]
     },
     "metadata": {
      "needs_background": "light"
     },
     "output_type": "display_data"
    }
   ],
   "source": [
    "rssi_counts = df['RSSI'].value_counts().sort_index()\n",
    "\n",
    "# Plot the frequency distribution as a bar plot\n",
    "plt.figure(figsize=(10, 6))\n",
    "plt.bar(rssi_counts.index, rssi_counts.values, color='skyblue')\n",
    "plt.xlim(-100, -0)  \n",
    "plt.ylabel('Frequency')\n",
    "plt.title('Frequency Distribution of RSSI Values 2m ')\n",
    "plt.xticks(rotation=45)  # Rotate x-axis labels for better readability\n",
    "plt.grid(axis='y')\n",
    "# Show the plot\n",
    "plt.show()\n",
    "\n",
    "rssi_values = df['RSSI'] \n",
    "\n",
    "# Set up the plot\n",
    "plt.figure(figsize=(10, 6))\n",
    "\n",
    "# Plot the histogram\n",
    "sns.histplot(rssi_values, kde=False, color='skyblue', stat='density', label='Histogram', alpha=0.6)\n",
    "# Overlay the KDE\n",
    "sns.kdeplot(rssi_values, color='red', label='KDE', linewidth=2)\n",
    "\n",
    "# Final plot settings\n",
    "plt.xlabel('RSSI (dBm)')\n",
    "plt.ylabel('Density')\n",
    "plt.title('Histogram of RSSI Values with KDE Overlay 2m')\n",
    "plt.legend()\n",
    "plt.grid()\n",
    "plt.xlim(-100, 0)  # Adjust based on your data range\n",
    "plt.show()"
   ]
  },
  {
   "cell_type": "code",
   "execution_count": 619,
   "metadata": {},
   "outputs": [
    {
     "name": "stdout",
     "output_type": "stream",
     "text": [
      "Mean RSSI: -86.77318007662835\n",
      "Median RSSI: -87.0\n",
      "Mode RSSI: -86\n",
      "25th Percentile (Q1): -88.0\n",
      "75th Percentile (Q3): -86.0\n"
     ]
    }
   ],
   "source": [
    "mean_rssi = np.mean(rssi_values)\n",
    "median_rssi = np.median(rssi_values)\n",
    "mode_rssi = rssi_values.mode()[0]\n",
    "\n",
    "# Finding the 25th and 75th percentiles\n",
    "q1_rssi = np.percentile(rssi_values, 25)\n",
    "q3_rssi = np.percentile(rssi_values, 75)\n",
    "\n",
    "print(\"Mean RSSI:\", mean_rssi)\n",
    "print(\"Median RSSI:\", median_rssi)\n",
    "print(\"Mode RSSI:\", mode_rssi)\n",
    "print(\"25th Percentile (Q1):\", q1_rssi)\n",
    "print(\"75th Percentile (Q3):\", q3_rssi)"
   ]
  },
  {
   "cell_type": "code",
   "execution_count": 620,
   "metadata": {},
   "outputs": [
    {
     "data": {
      "image/png": "[encoded data removed]",
      "text/plain": [
       "<Figure size 720x432 with 1 Axes>"
      ]
     },
     "metadata": {
      "needs_background": "light"
     },
     "output_type": "display_data"
    }
   ],
   "source": [
    "def sinusoidal(t, A, B, C, D):\n",
    "    return A * np.sin(B * t + C) + D\n",
    "\n",
    "time_ms = df['Timestamp']  # Time in milliseconds\n",
    "time = time_ms / 1000  # Convert to seconds for the fitting\n",
    "\n",
    "\n",
    "# Initial guess for the parameters [Amplitude, Frequency, Phase, Offset]\n",
    "initial_guess = [1, 2 * np.pi, 0, np.mean(rssi_values)]\n",
    "\n",
    "# Perform the curve fitting\n",
    "params, params_covariance = curve_fit(sinusoidal, time, rssi_values, p0=initial_guess)\n",
    "\n",
    "# Plot the original data\n",
    "plt.figure(figsize=(10, 6))\n",
    "plt.scatter(time, rssi_values, label='RSSI Data', color='skyblue', alpha=0.6)\n",
    "\n",
    "# Plot the fitted sinusoidal curve\n",
    "fitted_values = sinusoidal(time, *params)\n",
    "plt.plot(time, fitted_values, label=f'Sinusoidal Fit: A={params[0]:.2f}, B={params[1]:.2f}, C={params[2]:.2f}, D={params[3]:.2f}', color='orange')\n",
    "\n",
    "# Adjust x-axis to show the time between 0 and 1 second\n",
    "plt.xlim(0, 1)\n",
    "\n",
    "# Final plot settings\n",
    "plt.xlabel('Time (s)')\n",
    "plt.ylim(-88,-86)\n",
    "plt.ylabel('RSSI (dBm)')\n",
    "plt.title('RSSI Data with Fitted Sinusoidal Curve 2m')\n",
    "plt.legend()\n",
    "plt.grid()\n",
    "plt.show()"
   ]
  },
  {
   "cell_type": "code",
   "execution_count": 621,
   "metadata": {},
   "outputs": [],
   "source": [
    "# df['Timestamp_s'] = df['Timestamp'] / 1000\n",
    "\n",
    "# # Generate a smooth curve for RSSI vs Timestamp (in seconds) using cubic interpolation\n",
    "# x = df['Timestamp_s']\n",
    "# y = df['RSSI']\n",
    "\n",
    "# # Define 300 evenly spaced points for smoothness\n",
    "# x_smooth = np.linspace(x.min(), x.max(), 300)\n",
    "\n",
    "# # Apply cubic interpolation\n",
    "# spl = make_interp_spline(x, y, k=3)  # k=3 is cubic interpolation\n",
    "# y_smooth = spl(x_smooth)\n",
    "\n",
    "# # Plot the smoothed RSSI against time (in seconds)\n",
    "# plt.figure(figsize=(10, 6))\n",
    "# plt.plot(x_smooth, y_smooth, color='b', label='Smoothed Curve')\n",
    "\n",
    "# # Plot the original data points\n",
    "# plt.scatter(x, y, color='r', label='Original Data', alpha=0.5)\n",
    "\n",
    "# # Set graph labels and title\n",
    "# plt.xlabel('Time (s)')\n",
    "# plt.ylabel('RSSI (dBm)')\n",
    "# plt.title('Smoothed RSSI vs Time (in seconds)')\n",
    "# plt.legend()\n",
    "# plt.grid(True)\n",
    "\n",
    "# # Show the plot\n",
    "# plt.show()"
   ]
  }
 ],
 "metadata": {
  "kernelspec": {
   "display_name": ".venv",
   "language": "python",
   "name": "python3"
  },
  "language_info": {
   "codemirror_mode": {
    "name": "ipython",
    "version": 3
   },
   "file_extension": ".py",
   "mimetype": "text/x-python",
   "name": "python",
   "nbconvert_exporter": "python",
   "pygments_lexer": "ipython3",
   "version": "3.11.0"
  }
 },
 "nbformat": 4,
 "nbformat_minor": 2
}
