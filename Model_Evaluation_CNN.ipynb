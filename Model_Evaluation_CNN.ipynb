{
 "cells": [
  {
   "cell_type": "markdown",
   "metadata": {},
   "source": [
    "Loading the model in "
   ]
  },
  {
   "cell_type": "code",
   "execution_count": 14,
   "metadata": {},
   "outputs": [],
   "source": [
    "import torch\n",
    "import pandas as pd\n",
    "from torch import nn \n",
    "import numpy as np\n",
    "\n",
    "import joblib\n",
    "\n",
    "# from common_utils import MLPBuilder\n",
    "from torch.utils.data import DataLoader, TensorDataset\n",
    "import torch.optim as optim\n",
    "from sklearn.model_selection import train_test_split\n",
    "\n"
   ]
  },
  {
   "cell_type": "code",
   "execution_count": 15,
   "metadata": {},
   "outputs": [
    {
     "name": "stdout",
     "output_type": "stream",
     "text": [
      "PyTorch version: 2.5.0+cu118\n",
      "CUDA available: True\n",
      "Current CUDA device index: 0\n",
      "CUDA device name: NVIDIA GeForce RTX 4070 SUPER\n"
     ]
    }
   ],
   "source": [
    "print(\"PyTorch version:\", torch.__version__)\n",
    "\n",
    "# Check if CUDA is available\n",
    "print(\"CUDA available:\", torch.cuda.is_available())\n",
    "\n",
    "# Get current CUDA device index (if available)\n",
    "if torch.cuda.is_available():\n",
    "    print(\"Current CUDA device index:\", torch.cuda.current_device())\n",
    "    print(\"CUDA device name:\", torch.cuda.get_device_name(torch.cuda.current_device()))\n",
    "else:\n",
    "    print(\"No CUDA devices found.\")\n",
    "    \n",
    "device = torch.device(\"cuda\" if torch.cuda.is_available() else \"cpu\")"
   ]
  },
  {
   "cell_type": "code",
   "execution_count": 16,
   "metadata": {},
   "outputs": [],
   "source": [
    "import torch.nn.functional as F\n",
    "\n",
    "class CNN(nn.Module):\n",
    "    def __init__(self):\n",
    "        super(CNN, self).__init__()\n",
    "\n",
    "        # Convolutional Layers\n",
    "        self.conv1 = nn.Conv2d(1, 32, kernel_size=3, padding=1)   # output size = 8x8x32\n",
    "        self.conv2 = nn.Conv2d(32, 64, kernel_size=3, stride=2, padding=1)  # output size = 4x4x64\n",
    "        self.conv3 = nn.Conv2d(64, 128, kernel_size=3, padding=1)  # output size = 4x4x128\n",
    "        self.conv4 = nn.Conv2d(128, 256, kernel_size=3, padding=1)  # output size = 4x4x256\n",
    "        # Batch Normalization Layers\n",
    "        self.batchnorm1 = nn.BatchNorm2d(32)\n",
    "        self.batchnorm2 = nn.BatchNorm2d(64)\n",
    "        self.batchnorm3 = nn.BatchNorm2d(128)\n",
    "        self.batchnorm4 = nn.BatchNorm2d(256)\n",
    "        # Fully Connected Layers\n",
    "        self.fc1 = nn.Linear(256 * 4 * 4, 512)  # 4x4x256 -> 512\n",
    "        self.fc2 = nn.Linear(512, 256)  # 512-> 256\n",
    "        self.fc3 = nn.Linear(256, 64)  # 256-> 64\n",
    "\n",
    "        # Dropout for regularization\n",
    "        self.dropout = nn.Dropout(0.5)\n",
    "\n",
    "    def forward(self, x):\n",
    "        x = x.unsqueeze(1)  \n",
    "        x = F.relu(self.batchnorm1(self.conv1(x)))  \n",
    "        x = F.relu(self.batchnorm2(self.conv2(x)))  \n",
    "        x = F.relu(self.batchnorm3(self.conv3(x)))  \n",
    "        x = F.relu(self.batchnorm4(self.conv4(x))) \n",
    "\n",
    "        x = x.view(x.size(0), -1)  # Flatten\n",
    "\n",
    "        x = self.dropout(F.relu(self.fc1(x)))\n",
    "        x = self.dropout(F.relu(self.fc2(x)))\n",
    "        x = self.fc3(x)  # Output 64 logits (for 64 locations)\n",
    "\n",
    "        return x"
   ]
  },
  {
   "cell_type": "code",
   "execution_count": 17,
   "metadata": {},
   "outputs": [
    {
     "name": "stderr",
     "output_type": "stream",
     "text": [
      "C:\\Users\\randa\\AppData\\Local\\Temp\\ipykernel_36068\\180320298.py:5: FutureWarning: You are using `torch.load` with `weights_only=False` (the current default value), which uses the default pickle module implicitly. It is possible to construct malicious pickle data which will execute arbitrary code during unpickling (See https://github.com/pytorch/pytorch/blob/main/SECURITY.md#untrusted-models for more details). In a future release, the default value for `weights_only` will be flipped to `True`. This limits the functions that could be executed during unpickling. Arbitrary objects will no longer be allowed to be loaded via this mode unless they are explicitly allowlisted by the user via `torch.serialization.add_safe_globals`. We recommend you start setting `weights_only=True` for any use case where you don't have full control of the loaded file. Please open an issue on GitHub for any issues related to this experimental feature.\n",
      "  model = torch.load(\"models/CNN/CNN_No_Shuffling.pth\", map_location=device)\n"
     ]
    },
    {
     "data": {
      "text/plain": [
       "CNN(\n",
       "  (conv1): Conv2d(1, 32, kernel_size=(3, 3), stride=(1, 1), padding=(1, 1))\n",
       "  (conv2): Conv2d(32, 64, kernel_size=(3, 3), stride=(2, 2), padding=(1, 1))\n",
       "  (conv3): Conv2d(64, 128, kernel_size=(3, 3), stride=(1, 1), padding=(1, 1))\n",
       "  (conv4): Conv2d(128, 256, kernel_size=(3, 3), stride=(1, 1), padding=(1, 1))\n",
       "  (batchnorm1): BatchNorm2d(32, eps=1e-05, momentum=0.1, affine=True, track_running_stats=True)\n",
       "  (batchnorm2): BatchNorm2d(64, eps=1e-05, momentum=0.1, affine=True, track_running_stats=True)\n",
       "  (batchnorm3): BatchNorm2d(128, eps=1e-05, momentum=0.1, affine=True, track_running_stats=True)\n",
       "  (batchnorm4): BatchNorm2d(256, eps=1e-05, momentum=0.1, affine=True, track_running_stats=True)\n",
       "  (fc1): Linear(in_features=4096, out_features=512, bias=True)\n",
       "  (fc2): Linear(in_features=512, out_features=256, bias=True)\n",
       "  (fc3): Linear(in_features=256, out_features=64, bias=True)\n",
       "  (dropout): Dropout(p=0.5, inplace=False)\n",
       ")"
      ]
     },
     "execution_count": 17,
     "metadata": {},
     "output_type": "execute_result"
    }
   ],
   "source": [
    "# we trained the model with 8 features\n",
    "\n",
    "device = torch.device(\"cuda\" if torch.cuda.is_available() else \"cpu\")\n",
    "model = CNN()\n",
    "model = torch.load(\"models/CNN/CNN_No_Shuffling.pth\", map_location=device)\n",
    "model.to(device)\n",
    "model.eval()  "
   ]
  },
  {
   "cell_type": "markdown",
   "metadata": {},
   "source": [
    "## Loading test data in "
   ]
  },
  {
   "cell_type": "code",
   "execution_count": 18,
   "metadata": {},
   "outputs": [],
   "source": [
    "# train_file_path = './Data/25-02-10/cleaned_df.csv'\n",
    "test_file_path = './Data/25-02-04/combined_data.csv'\n",
    "model_path = './models/CNN/'\n",
    "cleaned_df = pd.read_csv(test_file_path)"
   ]
  },
  {
   "cell_type": "code",
   "execution_count": 19,
   "metadata": {},
   "outputs": [],
   "source": [
    "X = cleaned_df[['Tx_0 RSSI', 'Tx_1 RSSI', 'Tx_2 RSSI', 'Tx_3 RSSI', 'Tx_4 RSSI', 'Tx_5 RSSI', 'Tx_6 RSSI', 'Tx_7 RSSI']]\n",
    "Y = cleaned_df[['X_Coord', 'Y_Coord']]\n"
   ]
  },
  {
   "cell_type": "code",
   "execution_count": 20,
   "metadata": {},
   "outputs": [],
   "source": [
    "grid_data = {}\n",
    "\n",
    "# Collect RSSI values per (X_Coord, Y_Coord)\n",
    "for index, row in cleaned_df.iterrows():\n",
    "    x, y = int(row['X_Coord']), int(row['Y_Coord'])\n",
    "    \n",
    "    # Initialize empty list for this location if not already present\n",
    "    if (x, y) not in grid_data:\n",
    "        grid_data[(x, y)] = []\n",
    "    \n",
    "    # Append RSSI values (Tx_0 to Tx_7)\n",
    "    grid_data[(x, y)].append(row[X.columns].values)\n",
    "\n",
    "# Define parameters\n",
    "num_tx = 8      # Number of transmitters\n",
    "seq_length = 8  # Sequence length (8 samples per training instance)\n",
    "stride = 1      # Sliding window step (adjustable)\n",
    "max_sequences = 50  # Maximum sequences per grid cell to limit dataset size\n",
    "\n",
    "# Create a list to store all sequences\n",
    "training_samples = []\n",
    "\n",
    "# Generate sequences for CNN training\n",
    "for (x, y), rssi_values in grid_data.items():\n",
    "    rssi_array = np.array(rssi_values)  # Convert to NumPy array\n",
    "    \n",
    "    if rssi_array.shape[0] < seq_length:\n",
    "        continue  # Skip locations with fewer than 8 samples\n",
    "\n",
    "    # Extract multiple 8-sample sequences using a sliding window\n",
    "    num_samples = rssi_array.shape[0]\n",
    "\n",
    "    for start in range(0, num_samples - seq_length + 1, stride):\n",
    "        # Get an 8-sample window\n",
    "        window = rssi_array[start:start + seq_length].T  # Shape: (Tx, 8 samples)\n",
    "\n",
    "        # Store sample with label (x, y)\n",
    "        training_samples.append((window, (x, y)))"
   ]
  },
  {
   "cell_type": "code",
   "execution_count": 21,
   "metadata": {},
   "outputs": [
    {
     "name": "stdout",
     "output_type": "stream",
     "text": [
      "Generated training data shape: (6946, 8, 8)\n",
      "Generated labels shape: (6946, 2)\n"
     ]
    }
   ],
   "source": [
    "if training_samples:\n",
    "    X_Sequence = np.array([sample[0] for sample in training_samples])  # Shape: (num_samples, Tx, 8)\n",
    "    y_Sequence = np.array([sample[1] for sample in training_samples])  # Shape: (num_samples, 2) -> (X_Coord, Y_Coord)\n",
    "else:\n",
    "    X_Sequence = np.array([])\n",
    "    y_Sequence = np.array([])\n",
    "\n",
    "print(\"Generated training data shape:\", X_Sequence.shape)\n",
    "print(\"Generated labels shape:\", y_Sequence.shape)"
   ]
  },
  {
   "cell_type": "code",
   "execution_count": 22,
   "metadata": {},
   "outputs": [],
   "source": [
    "\n",
    "# Perform train-test split (80% train, 20% test)\n",
    "X_train, X_test, y_train, y_test = train_test_split(\n",
    "    X_Sequence, y_Sequence, test_size=0.2, random_state=42\n",
    ")\n",
    "\n",
    "\n",
    "\n",
    "# Convert (X_Coord, Y_Coord) to a single class index\n",
    "y_train = np.array([x * 8 + y for x, y in y_train])\n",
    "y_test = np.array([x * 8 + y for x, y in y_test])\n",
    "\n",
    "# Convert to PyTorch tensors\n",
    "X_train = torch.tensor(X_train, dtype=torch.float32)\n",
    "X_test = torch.tensor(X_test, dtype=torch.float32)\n",
    "y_train = torch.tensor(y_train, dtype=torch.long)  # Must be long for classification\n",
    "y_test = torch.tensor(y_test, dtype=torch.long)\n",
    "\n",
    "# Move to GPU if available\n",
    "device = torch.device(\"cuda\" if torch.cuda.is_available() else \"cpu\")\n",
    "X_train, X_test, y_train, y_test = X_train.to(device), X_test.to(device), y_train.to(device), y_test.to(device)\n"
   ]
  },
  {
   "cell_type": "markdown",
   "metadata": {},
   "source": [
    "# Implementing transfer learning in test environment"
   ]
  },
  {
   "cell_type": "code",
   "execution_count": null,
   "metadata": {},
   "outputs": [],
   "source": []
  }
 ],
 "metadata": {
  "kernelspec": {
   "display_name": ".venv",
   "language": "python",
   "name": "python3"
  },
  "language_info": {
   "codemirror_mode": {
    "name": "ipython",
    "version": 3
   },
   "file_extension": ".py",
   "mimetype": "text/x-python",
   "name": "python",
   "nbconvert_exporter": "python",
   "pygments_lexer": "ipython3",
   "version": "3.9.7"
  }
 },
 "nbformat": 4,
 "nbformat_minor": 2
}
