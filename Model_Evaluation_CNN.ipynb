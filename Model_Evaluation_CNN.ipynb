{
 "cells": [
  {
   "cell_type": "markdown",
   "metadata": {},
   "source": [
    "Loading the model in "
   ]
  },
  {
   "cell_type": "code",
   "execution_count": 1,
   "metadata": {},
   "outputs": [],
   "source": [
    "import torch\n",
    "import pandas as pd\n",
    "from torch import nn \n",
    "import numpy as np\n",
    "\n",
    "import joblib\n",
    "\n",
    "# from common_utils import MLPBuilder\n",
    "from torch.utils.data import DataLoader, TensorDataset\n",
    "import torch.optim as optim\n",
    "from sklearn.model_selection import train_test_split\n",
    "\n",
    "modelname = 'CNN_Shuffling'"
   ]
  },
  {
   "cell_type": "code",
   "execution_count": 2,
   "metadata": {},
   "outputs": [
    {
     "name": "stdout",
     "output_type": "stream",
     "text": [
      "PyTorch version: 2.5.0+cu118\n",
      "CUDA available: True\n",
      "Current CUDA device index: 0\n",
      "CUDA device name: NVIDIA GeForce RTX 4070 SUPER\n"
     ]
    }
   ],
   "source": [
    "print(\"PyTorch version:\", torch.__version__)\n",
    "\n",
    "# Check if CUDA is available\n",
    "print(\"CUDA available:\", torch.cuda.is_available())\n",
    "\n",
    "# Get current CUDA device index (if available)\n",
    "if torch.cuda.is_available():\n",
    "    print(\"Current CUDA device index:\", torch.cuda.current_device())\n",
    "    print(\"CUDA device name:\", torch.cuda.get_device_name(torch.cuda.current_device()))\n",
    "else:\n",
    "    print(\"No CUDA devices found.\")\n",
    "    \n",
    "device = torch.device(\"cuda\" if torch.cuda.is_available() else \"cpu\")"
   ]
  },
  {
   "cell_type": "code",
   "execution_count": 3,
   "metadata": {},
   "outputs": [],
   "source": [
    "import torch.nn.functional as F\n",
    "\n",
    "class CNN(nn.Module):\n",
    "    def __init__(self):\n",
    "        super(CNN, self).__init__()\n",
    "\n",
    "        # Convolutional Layers\n",
    "        self.conv1 = nn.Conv2d(1, 32, kernel_size=3, padding=1)   # output size = 8x8x32\n",
    "        self.conv2 = nn.Conv2d(32, 64, kernel_size=3, stride=2, padding=1)  # output size = 4x4x64\n",
    "        self.conv3 = nn.Conv2d(64, 128, kernel_size=3, padding=1)  # output size = 4x4x128\n",
    "        self.conv4 = nn.Conv2d(128, 256, kernel_size=3, padding=1)  # output size = 4x4x256\n",
    "        # Batch Normalization Layers\n",
    "        self.batchnorm1 = nn.BatchNorm2d(32)\n",
    "        self.batchnorm2 = nn.BatchNorm2d(64)\n",
    "        self.batchnorm3 = nn.BatchNorm2d(128)\n",
    "        self.batchnorm4 = nn.BatchNorm2d(256)\n",
    "        # Fully Connected Layers\n",
    "        self.fc1 = nn.Linear(256 * 4 * 4, 512)  # 4x4x256 -> 512\n",
    "        self.fc2 = nn.Linear(512, 256)  # 512-> 256\n",
    "        self.fc3 = nn.Linear(256, 64)  # 256-> 64\n",
    "\n",
    "        # Dropout for regularization\n",
    "        self.dropout = nn.Dropout(0.5)\n",
    "\n",
    "    def forward(self, x):\n",
    "        x = x.unsqueeze(1)  \n",
    "        x = F.relu(self.batchnorm1(self.conv1(x)))  \n",
    "        x = F.relu(self.batchnorm2(self.conv2(x)))  \n",
    "        x = F.relu(self.batchnorm3(self.conv3(x)))  \n",
    "        x = F.relu(self.batchnorm4(self.conv4(x))) \n",
    "\n",
    "        x = x.view(x.size(0), -1)  # Flatten\n",
    "\n",
    "        x = self.dropout(F.relu(self.fc1(x)))\n",
    "        x = self.dropout(F.relu(self.fc2(x)))\n",
    "        x = self.fc3(x)  # Output 64 logits (for 64 locations)\n",
    "\n",
    "        return x"
   ]
  },
  {
   "cell_type": "code",
   "execution_count": 4,
   "metadata": {},
   "outputs": [
    {
     "name": "stderr",
     "output_type": "stream",
     "text": [
      "C:\\Users\\randa\\AppData\\Local\\Temp\\ipykernel_15448\\485939076.py:5: FutureWarning: You are using `torch.load` with `weights_only=False` (the current default value), which uses the default pickle module implicitly. It is possible to construct malicious pickle data which will execute arbitrary code during unpickling (See https://github.com/pytorch/pytorch/blob/main/SECURITY.md#untrusted-models for more details). In a future release, the default value for `weights_only` will be flipped to `True`. This limits the functions that could be executed during unpickling. Arbitrary objects will no longer be allowed to be loaded via this mode unless they are explicitly allowlisted by the user via `torch.serialization.add_safe_globals`. We recommend you start setting `weights_only=True` for any use case where you don't have full control of the loaded file. Please open an issue on GitHub for any issues related to this experimental feature.\n",
      "  model = torch.load('models/CNN/'+modelname+'.pth', map_location=device)\n"
     ]
    },
    {
     "data": {
      "text/plain": [
       "CNN(\n",
       "  (conv1): Conv2d(1, 32, kernel_size=(3, 3), stride=(1, 1), padding=(1, 1))\n",
       "  (conv2): Conv2d(32, 64, kernel_size=(3, 3), stride=(2, 2), padding=(1, 1))\n",
       "  (conv3): Conv2d(64, 128, kernel_size=(3, 3), stride=(1, 1), padding=(1, 1))\n",
       "  (conv4): Conv2d(128, 256, kernel_size=(3, 3), stride=(1, 1), padding=(1, 1))\n",
       "  (batchnorm1): BatchNorm2d(32, eps=1e-05, momentum=0.1, affine=True, track_running_stats=True)\n",
       "  (batchnorm2): BatchNorm2d(64, eps=1e-05, momentum=0.1, affine=True, track_running_stats=True)\n",
       "  (batchnorm3): BatchNorm2d(128, eps=1e-05, momentum=0.1, affine=True, track_running_stats=True)\n",
       "  (batchnorm4): BatchNorm2d(256, eps=1e-05, momentum=0.1, affine=True, track_running_stats=True)\n",
       "  (fc1): Linear(in_features=4096, out_features=512, bias=True)\n",
       "  (fc2): Linear(in_features=512, out_features=256, bias=True)\n",
       "  (fc3): Linear(in_features=256, out_features=64, bias=True)\n",
       "  (dropout): Dropout(p=0.5, inplace=False)\n",
       ")"
      ]
     },
     "execution_count": 4,
     "metadata": {},
     "output_type": "execute_result"
    }
   ],
   "source": [
    "# we trained the model with 8 features\n",
    "\n",
    "device = torch.device(\"cuda\" if torch.cuda.is_available() else \"cpu\")\n",
    "model = CNN()\n",
    "model = torch.load('models/CNN/'+modelname+'.pth', map_location=device)\n",
    "model.to(device)\n",
    "model.eval()  "
   ]
  },
  {
   "cell_type": "code",
   "execution_count": 5,
   "metadata": {},
   "outputs": [
    {
     "name": "stdout",
     "output_type": "stream",
     "text": [
      "Layer: conv1.weight | Trainable: False\n",
      "Layer: conv1.bias | Trainable: False\n",
      "Layer: conv2.weight | Trainable: False\n",
      "Layer: conv2.bias | Trainable: False\n",
      "Layer: conv3.weight | Trainable: False\n",
      "Layer: conv3.bias | Trainable: False\n",
      "Layer: conv4.weight | Trainable: False\n",
      "Layer: conv4.bias | Trainable: False\n",
      "Layer: batchnorm1.weight | Trainable: True\n",
      "Layer: batchnorm1.bias | Trainable: True\n",
      "Layer: batchnorm2.weight | Trainable: True\n",
      "Layer: batchnorm2.bias | Trainable: True\n",
      "Layer: batchnorm3.weight | Trainable: True\n",
      "Layer: batchnorm3.bias | Trainable: True\n",
      "Layer: batchnorm4.weight | Trainable: True\n",
      "Layer: batchnorm4.bias | Trainable: True\n",
      "Layer: fc1.weight | Trainable: True\n",
      "Layer: fc1.bias | Trainable: True\n",
      "Layer: fc2.weight | Trainable: True\n",
      "Layer: fc2.bias | Trainable: True\n",
      "Layer: fc3.weight | Trainable: True\n",
      "Layer: fc3.bias | Trainable: True\n"
     ]
    }
   ],
   "source": [
    "for param in model.conv1.parameters():\n",
    "    param.requires_grad = False\n",
    "for param in model.conv2.parameters():\n",
    "    param.requires_grad = False\n",
    "for param in model.conv3.parameters():\n",
    "    param.requires_grad = False\n",
    "for param in model.conv4.parameters():\n",
    "    param.requires_grad = False\n",
    "\n",
    "for param in model.fc1.parameters():\n",
    "    param.requires_grad = True\n",
    "for param in model.fc2.parameters():\n",
    "    param.requires_grad = True\n",
    "for param in model.fc3.parameters():\n",
    "    param.requires_grad = True\n",
    "\n",
    "\n",
    "for name, param in model.named_parameters():\n",
    "    print(f\"Layer: {name} | Trainable: {param.requires_grad}\")\n"
   ]
  },
  {
   "cell_type": "code",
   "execution_count": null,
   "metadata": {},
   "outputs": [],
   "source": []
  },
  {
   "cell_type": "markdown",
   "metadata": {},
   "source": [
    "## Loading test data in "
   ]
  },
  {
   "cell_type": "code",
   "execution_count": 6,
   "metadata": {},
   "outputs": [],
   "source": [
    "# train_file_path = './Data/25-02-10/cleaned_df.csv'\n",
    "test_file_path = './Data/25-02-04/combined_data.csv'\n",
    "model_path = './models/CNN/'\n",
    "cleaned_df = pd.read_csv(test_file_path)"
   ]
  },
  {
   "cell_type": "code",
   "execution_count": 7,
   "metadata": {},
   "outputs": [],
   "source": [
    "X = cleaned_df[['Tx_0 RSSI', 'Tx_1 RSSI', 'Tx_2 RSSI', 'Tx_3 RSSI', 'Tx_4 RSSI', 'Tx_5 RSSI', 'Tx_6 RSSI', 'Tx_7 RSSI']]\n",
    "Y = cleaned_df[['X_Coord', 'Y_Coord']]\n"
   ]
  },
  {
   "cell_type": "code",
   "execution_count": 8,
   "metadata": {},
   "outputs": [],
   "source": [
    "grid_data = {}\n",
    "\n",
    "# Collect RSSI values per (X_Coord, Y_Coord)\n",
    "for index, row in cleaned_df.iterrows():\n",
    "    x, y = int(row['X_Coord']), int(row['Y_Coord'])\n",
    "    \n",
    "    # Initialize empty list for this location if not already present\n",
    "    if (x, y) not in grid_data:\n",
    "        grid_data[(x, y)] = []\n",
    "    \n",
    "    # Append RSSI values (Tx_0 to Tx_7)\n",
    "    grid_data[(x, y)].append(row[X.columns].values)\n",
    "\n",
    "# Define parameters\n",
    "num_tx = 8      # Number of transmitters\n",
    "seq_length = 8  # Sequence length (8 samples per training instance)\n",
    "stride = 1      # Sliding window step (adjustable)\n",
    "max_sequences = 50  # Maximum sequences per grid cell to limit dataset size\n",
    "\n",
    "# Create a list to store all sequences\n",
    "training_samples = []\n",
    "\n",
    "# Generate sequences for CNN training\n",
    "for (x, y), rssi_values in grid_data.items():\n",
    "    rssi_array = np.array(rssi_values)  # Convert to NumPy array\n",
    "    \n",
    "    if rssi_array.shape[0] < seq_length:\n",
    "        continue  # Skip locations with fewer than 8 samples\n",
    "\n",
    "    # Extract multiple 8-sample sequences using a sliding window\n",
    "    num_samples = rssi_array.shape[0]\n",
    "\n",
    "    for start in range(0, num_samples - seq_length + 1, stride):\n",
    "        # Get an 8-sample window\n",
    "        window = rssi_array[start:start + seq_length].T  # Shape: (Tx, 8 samples)\n",
    "\n",
    "        # Store sample with label (x, y)\n",
    "        training_samples.append((window, (x, y)))"
   ]
  },
  {
   "cell_type": "code",
   "execution_count": 9,
   "metadata": {},
   "outputs": [
    {
     "name": "stdout",
     "output_type": "stream",
     "text": [
      "Generated training data shape: (6946, 8, 8)\n",
      "Generated labels shape: (6946, 2)\n"
     ]
    }
   ],
   "source": [
    "if training_samples:\n",
    "    X_Sequence = np.array([sample[0] for sample in training_samples])  # Shape: (num_samples, Tx, 8)\n",
    "    y_Sequence = np.array([sample[1] for sample in training_samples])  # Shape: (num_samples, 2) -> (X_Coord, Y_Coord)\n",
    "else:\n",
    "    X_Sequence = np.array([])\n",
    "    y_Sequence = np.array([])\n",
    "\n",
    "print(\"Generated training data shape:\", X_Sequence.shape)\n",
    "print(\"Generated labels shape:\", y_Sequence.shape)"
   ]
  },
  {
   "cell_type": "code",
   "execution_count": 10,
   "metadata": {},
   "outputs": [],
   "source": [
    "\n",
    "# Perform train-test split (80% train, 20% test)\n",
    "X_train, X_test, y_train, y_test = train_test_split(\n",
    "    X_Sequence, y_Sequence, test_size=0.2, random_state=42\n",
    ")\n",
    "\n",
    "\n",
    "\n",
    "# Convert (X_Coord, Y_Coord) to a single class index\n",
    "y_train = np.array([x * 8 + y for x, y in y_train])\n",
    "y_test = np.array([x * 8 + y for x, y in y_test])\n",
    "\n",
    "# Convert to PyTorch tensors\n",
    "X_train = torch.tensor(X_train, dtype=torch.float32)\n",
    "X_test = torch.tensor(X_test, dtype=torch.float32)\n",
    "y_train = torch.tensor(y_train, dtype=torch.long)  # Must be long for classification\n",
    "y_test = torch.tensor(y_test, dtype=torch.long)\n",
    "\n",
    "# Move to GPU if available\n",
    "device = torch.device(\"cuda\" if torch.cuda.is_available() else \"cpu\")\n",
    "X_train, X_test, y_train, y_test = X_train.to(device), X_test.to(device), y_train.to(device), y_test.to(device)\n"
   ]
  },
  {
   "cell_type": "markdown",
   "metadata": {},
   "source": [
    "# Implementing transfer learning in test environment"
   ]
  },
  {
   "cell_type": "code",
   "execution_count": 11,
   "metadata": {},
   "outputs": [],
   "source": [
    "num_epochs = 100  # Adjust based on performance\n",
    "batch_size = 32\n",
    "\n",
    "criterion = nn.CrossEntropyLoss()\n",
    "optimizer = optim.AdamW(filter(lambda p: p.requires_grad, model.parameters()), lr=0.001, weight_decay = 1e-4)\n"
   ]
  },
  {
   "cell_type": "code",
   "execution_count": 12,
   "metadata": {},
   "outputs": [
    {
     "name": "stdout",
     "output_type": "stream",
     "text": [
      "Test Accuracy: 1.65%\n",
      "Average Displacement Error: 3.7685\n"
     ]
    }
   ],
   "source": [
    "model.eval()\n",
    "test_dataset = TensorDataset(X_test, y_test)\n",
    "test_loader = DataLoader(test_dataset, batch_size=batch_size, shuffle=False)\n",
    "\n",
    "correct = 0\n",
    "total = 0\n",
    "total_displacement = 0.0\n",
    "\n",
    "with torch.no_grad():\n",
    "    for inputs, labels in test_loader:\n",
    "        inputs, labels = inputs.to(device), labels.to(device)  # Move data to GPU/CPU\n",
    "        outputs = model(inputs)\n",
    "        _, predicted = torch.max(outputs, 1)  # Get predicted class\n",
    "        total += labels.size(0)\n",
    "        correct += (predicted == labels).sum().item()\n",
    "        \n",
    "        # Convert predicted and actual labels back to (X, Y) coordinates\n",
    "        predicted_coords = torch.stack((predicted // 8, predicted % 8), dim=1).float()\n",
    "        actual_coords = torch.stack((labels // 8, labels % 8), dim=1).float()\n",
    "        \n",
    "        # Compute Euclidean distance (displacement)\n",
    "        displacement = torch.norm(predicted_coords - actual_coords, dim=1).sum().item()\n",
    "        total_displacement += displacement\n",
    "\n",
    "accuracy = 100 * correct / total\n",
    "average_displacement = total_displacement / total\n",
    "\n",
    "print(f\"Test Accuracy: {accuracy:.2f}%\")\n",
    "print(f\"Average Displacement Error: {average_displacement:.4f}\")\n"
   ]
  },
  {
   "cell_type": "code",
   "execution_count": 13,
   "metadata": {},
   "outputs": [
    {
     "name": "stdout",
     "output_type": "stream",
     "text": [
      "Epoch [1/100], Loss: 3.2106\n",
      "Epoch [2/100], Loss: 1.8120\n",
      "Epoch [3/100], Loss: 1.5078\n",
      "Epoch [4/100], Loss: 1.2470\n",
      "Epoch [5/100], Loss: 1.1547\n",
      "Epoch [6/100], Loss: 1.0735\n",
      "Epoch [7/100], Loss: 0.9604\n",
      "Epoch [8/100], Loss: 0.9027\n",
      "Epoch [9/100], Loss: 0.8288\n",
      "Epoch [10/100], Loss: 0.7833\n",
      "Epoch [11/100], Loss: 0.7572\n",
      "Epoch [12/100], Loss: 0.7194\n",
      "Epoch [13/100], Loss: 0.6642\n",
      "Epoch [14/100], Loss: 0.6460\n",
      "Epoch [15/100], Loss: 0.6123\n",
      "Epoch [16/100], Loss: 0.5664\n",
      "Epoch [17/100], Loss: 0.5768\n",
      "Epoch [18/100], Loss: 0.5482\n",
      "Epoch [19/100], Loss: 0.5564\n",
      "Epoch [20/100], Loss: 0.4902\n",
      "Epoch [21/100], Loss: 0.5051\n",
      "Epoch [22/100], Loss: 0.5133\n",
      "Epoch [23/100], Loss: 0.4750\n",
      "Epoch [24/100], Loss: 0.4376\n",
      "Epoch [25/100], Loss: 0.4286\n",
      "Epoch [26/100], Loss: 0.4497\n",
      "Epoch [27/100], Loss: 0.4245\n",
      "Epoch [28/100], Loss: 0.4110\n",
      "Epoch [29/100], Loss: 0.4023\n",
      "Epoch [30/100], Loss: 0.3627\n",
      "Epoch [31/100], Loss: 0.3553\n",
      "Epoch [32/100], Loss: 0.3752\n",
      "Epoch [33/100], Loss: 0.3768\n",
      "Epoch [34/100], Loss: 0.3420\n",
      "Epoch [35/100], Loss: 0.3423\n",
      "Epoch [36/100], Loss: 0.3252\n",
      "Epoch [37/100], Loss: 0.3436\n",
      "Epoch [38/100], Loss: 0.3238\n",
      "Epoch [39/100], Loss: 0.3367\n",
      "Epoch [40/100], Loss: 0.2947\n",
      "Epoch [41/100], Loss: 0.2777\n",
      "Epoch [42/100], Loss: 0.2634\n",
      "Epoch [43/100], Loss: 0.3276\n",
      "Epoch [44/100], Loss: 0.2915\n",
      "Epoch [45/100], Loss: 0.2483\n",
      "Epoch [46/100], Loss: 0.2803\n",
      "Epoch [47/100], Loss: 0.2688\n",
      "Epoch [48/100], Loss: 0.2666\n",
      "Epoch [49/100], Loss: 0.2382\n",
      "Epoch [50/100], Loss: 0.2406\n",
      "Epoch [51/100], Loss: 0.2582\n",
      "Epoch [52/100], Loss: 0.2303\n",
      "Epoch [53/100], Loss: 0.2828\n",
      "Epoch [54/100], Loss: 0.2144\n",
      "Epoch [55/100], Loss: 0.2231\n",
      "Epoch [56/100], Loss: 0.2493\n",
      "Epoch [57/100], Loss: 0.2032\n",
      "Epoch [58/100], Loss: 0.2464\n",
      "Epoch [59/100], Loss: 0.2383\n",
      "Epoch [60/100], Loss: 0.2381\n",
      "Epoch [61/100], Loss: 0.2238\n",
      "Epoch [62/100], Loss: 0.2267\n",
      "Epoch [63/100], Loss: 0.2184\n",
      "Epoch [64/100], Loss: 0.2118\n",
      "Epoch [65/100], Loss: 0.2208\n",
      "Epoch [66/100], Loss: 0.2137\n",
      "Epoch [67/100], Loss: 0.2081\n",
      "Early stopping at epoch 67\n"
     ]
    }
   ],
   "source": [
    "\n",
    "patience = 10 \n",
    "best_loss = float(\"inf\")\n",
    "\n",
    "\n",
    "train_dataset = TensorDataset(X_train, y_train)\n",
    "train_loader = DataLoader(train_dataset, batch_size=batch_size, shuffle=True)\n",
    "\n",
    "# Training loop\n",
    "model.train()\n",
    "no_improve_epochs = 0  # Initialize early stopping counter\n",
    "\n",
    "for epoch in range(num_epochs):\n",
    "    running_loss = 0.0\n",
    "\n",
    "    for inputs, labels in train_loader:\n",
    "        inputs, labels = inputs.to(device), labels.to(device)  # Move data to GPU/CPU\n",
    "\n",
    "        optimizer.zero_grad()\n",
    "        outputs = model(inputs)  # Forward pass\n",
    "        loss = criterion(outputs, labels)  # Compute loss\n",
    "        loss.backward()  # Backpropagation\n",
    "        optimizer.step()  # Update weights\n",
    "        running_loss += loss.item()\n",
    "\n",
    "    avg_loss = running_loss / len(train_loader)\n",
    "    print(f\"Epoch [{epoch+1}/{num_epochs}], Loss: {avg_loss:.4f}\")\n",
    "\n",
    "    # Early stopping\n",
    "    if avg_loss < best_loss:\n",
    "        best_loss = avg_loss\n",
    "        no_improve_epochs = 0\n",
    "    else:\n",
    "        no_improve_epochs += 1\n",
    "\n",
    "    if no_improve_epochs >= patience:\n",
    "        print(f\"Early stopping at epoch {epoch + 1}\")\n",
    "        break\n"
   ]
  },
  {
   "cell_type": "code",
   "execution_count": 14,
   "metadata": {},
   "outputs": [
    {
     "name": "stdout",
     "output_type": "stream",
     "text": [
      "Test Accuracy: 87.91%\n",
      "Average Displacement Error: 0.3769\n"
     ]
    }
   ],
   "source": [
    "model.eval()\n",
    "test_dataset = TensorDataset(X_test, y_test)\n",
    "test_loader = DataLoader(test_dataset, batch_size=batch_size, shuffle=False)\n",
    "\n",
    "correct = 0\n",
    "total = 0\n",
    "total_displacement = 0.0\n",
    "\n",
    "with torch.no_grad():\n",
    "    for inputs, labels in test_loader:\n",
    "        inputs, labels = inputs.to(device), labels.to(device)  # Move data to GPU/CPU\n",
    "        outputs = model(inputs)\n",
    "        _, predicted = torch.max(outputs, 1)  # Get predicted class\n",
    "        total += labels.size(0)\n",
    "        correct += (predicted == labels).sum().item()\n",
    "        \n",
    "        # Convert predicted and actual labels back to (X, Y) coordinates\n",
    "        predicted_coords = torch.stack((predicted // 8, predicted % 8), dim=1).float()\n",
    "        actual_coords = torch.stack((labels // 8, labels % 8), dim=1).float()\n",
    "        \n",
    "        # Compute Euclidean distance (displacement)\n",
    "        displacement = torch.norm(predicted_coords - actual_coords, dim=1).sum().item()\n",
    "        total_displacement += displacement\n",
    "\n",
    "accuracy = 100 * correct / total\n",
    "average_displacement = total_displacement / total\n",
    "\n",
    "print(f\"Test Accuracy: {accuracy:.2f}%\")\n",
    "print(f\"Average Displacement Error: {average_displacement:.4f}\")\n"
   ]
  }
 ],
 "metadata": {
  "kernelspec": {
   "display_name": ".venv",
   "language": "python",
   "name": "python3"
  },
  "language_info": {
   "codemirror_mode": {
    "name": "ipython",
    "version": 3
   },
   "file_extension": ".py",
   "mimetype": "text/x-python",
   "name": "python",
   "nbconvert_exporter": "python",
   "pygments_lexer": "ipython3",
   "version": "3.9.7"
  }
 },
 "nbformat": 4,
 "nbformat_minor": 2
}
