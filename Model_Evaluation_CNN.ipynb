{
 "cells": [
  {
   "cell_type": "markdown",
   "metadata": {},
   "source": [
    "Loading the model in "
   ]
  },
  {
   "cell_type": "code",
   "execution_count": 2,
   "metadata": {},
   "outputs": [],
   "source": [
    "import torch\n",
    "import pandas as pd\n",
    "from torch import nn \n",
    "import numpy as np\n",
    "\n",
    "import joblib\n",
    "\n",
    "# from common_utils import MLPBuilder\n",
    "from torch.utils.data import DataLoader, TensorDataset\n",
    "import torch.optim as optim\n",
    "from sklearn.model_selection import train_test_split\n",
    "import torch.nn.functional as F\n",
    "\n",
    "modelname = 'CNN_Attention_HWLab_2fold'"
   ]
  },
  {
   "cell_type": "code",
   "execution_count": 3,
   "metadata": {},
   "outputs": [
    {
     "name": "stdout",
     "output_type": "stream",
     "text": [
      "PyTorch version: 2.5.0+cu118\n",
      "CUDA available: True\n",
      "Current CUDA device index: 0\n",
      "CUDA device name: NVIDIA GeForce RTX 4070 SUPER\n"
     ]
    }
   ],
   "source": [
    "print(\"PyTorch version:\", torch.__version__)\n",
    "\n",
    "# Check if CUDA is available\n",
    "print(\"CUDA available:\", torch.cuda.is_available())\n",
    "\n",
    "# Get current CUDA device index (if available)\n",
    "if torch.cuda.is_available():\n",
    "    print(\"Current CUDA device index:\", torch.cuda.current_device())\n",
    "    print(\"CUDA device name:\", torch.cuda.get_device_name(torch.cuda.current_device()))\n",
    "else:\n",
    "    print(\"No CUDA devices found.\")\n",
    "    \n",
    "device = torch.device(\"cuda\" if torch.cuda.is_available() else \"cpu\")"
   ]
  },
  {
   "cell_type": "code",
   "execution_count": 4,
   "metadata": {},
   "outputs": [],
   "source": [
    "# #Original Model\n",
    "\n",
    "# class CNN(nn.Module):\n",
    "#     def __init__(self):\n",
    "#         super(CNN, self).__init__()\n",
    "\n",
    "#         # Convolutional Layers\n",
    "#         self.conv1 = nn.Conv2d(1, 32, kernel_size=3, padding=1)   # output size = 8x8x32\n",
    "#         self.conv2 = nn.Conv2d(32, 64, kernel_size=3, stride=2, padding=1)  # output size = 4x4x64\n",
    "#         self.conv3 = nn.Conv2d(64, 128, kernel_size=3, padding=1)  # output size = 4x4x128\n",
    "#         self.conv4 = nn.Conv2d(128, 256, kernel_size=3, padding=1)  # output size = 4x4x256\n",
    "#         # Batch Normalization Layers\n",
    "#         self.batchnorm1 = nn.BatchNorm2d(32)\n",
    "#         self.batchnorm2 = nn.BatchNorm2d(64)\n",
    "#         self.batchnorm3 = nn.BatchNorm2d(128)\n",
    "#         self.batchnorm4 = nn.BatchNorm2d(256)\n",
    "#         # Fully Connected Layers\n",
    "#         self.fc1 = nn.Linear(256 * 4 * 4, 512)  # 4x4x256 -> 512\n",
    "#         self.fc2 = nn.Linear(512, 256)  # 512-> 256\n",
    "#         self.fc3 = nn.Linear(256, 64)  # 256-> 64\n",
    "\n",
    "#         # Dropout for regularization\n",
    "#         self.dropout = nn.Dropout(0.5)\n",
    "\n",
    "#     def forward(self, x):\n",
    "#         x = x.unsqueeze(1)  \n",
    "#         x = F.relu(self.batchnorm1(self.conv1(x)))  \n",
    "#         x = F.relu(self.batchnorm2(self.conv2(x)))  \n",
    "#         x = F.relu(self.batchnorm3(self.conv3(x)))  \n",
    "#         x = F.relu(self.batchnorm4(self.conv4(x))) \n",
    "\n",
    "#         x = x.view(x.size(0), -1)  # Flatten\n",
    "\n",
    "#         x = self.dropout(F.relu(self.fc1(x)))\n",
    "#         x = self.dropout(F.relu(self.fc2(x)))\n",
    "#         x = self.fc3(x)  # Output 64 logits (for 64 locations)\n",
    "\n",
    "#         return x"
   ]
  },
  {
   "cell_type": "code",
   "execution_count": 5,
   "metadata": {},
   "outputs": [],
   "source": [
    "# # CNN Small Model\n",
    "# class CNN(nn.Module):\n",
    "#     def __init__(self):\n",
    "#         super(CNN, self).__init__()\n",
    "\n",
    "#         # Convolutional Layers\n",
    "#         self.conv1 = nn.Conv2d(1, 32, kernel_size=3, padding=1)   # output size = 8x8x32\n",
    "#         self.conv2 = nn.Conv2d(32, 64, kernel_size=3, stride=2, padding=1)  # output size = 4x4x64\n",
    "#         self.conv3 = nn.Conv2d(64, 128, kernel_size=3, padding=1)  # output size = 4x4x128\n",
    "#         # Batch Normalization Layers\n",
    "#         self.batchnorm1 = nn.BatchNorm2d(32)\n",
    "#         self.batchnorm2 = nn.BatchNorm2d(64)\n",
    "#         self.batchnorm3 = nn.BatchNorm2d(128)\n",
    "\n",
    "#         # Fully Connected Layers\n",
    "#         self.fc1 = nn.Linear(128 * 4 * 4, 256)  # 4x4x128 -> 256\n",
    "#         self.fc2 = nn.Linear(256, 64)  # 256-> 64\n",
    "\n",
    "#         # Dropout for regularization\n",
    "#         self.dropout = nn.Dropout(0.5)\n",
    "\n",
    "#     def forward(self, x):\n",
    "#         x = x.unsqueeze(1)  \n",
    "#         x = F.relu(self.batchnorm1(self.conv1(x)))  \n",
    "#         x = F.relu(self.batchnorm2(self.conv2(x)))  \n",
    "#         x = F.relu(self.batchnorm3(self.conv3(x)))  \n",
    "\n",
    "#         x = x.view(x.size(0), -1)  # Flatten\n",
    "\n",
    "#         x = self.dropout(F.relu(self.fc1(x)))\n",
    "#         x = self.fc2(x)  # Output 64 logits (for 64 locations)\n",
    "\n",
    "#         return x"
   ]
  },
  {
   "cell_type": "code",
   "execution_count": 6,
   "metadata": {},
   "outputs": [],
   "source": [
    "# CNN Attention Model\n",
    "class CNN(nn.Module):\n",
    "    def __init__(self):\n",
    "        super(CNN, self).__init__()\n",
    "\n",
    "        # Convolutional Layers\n",
    "        self.conv1 = nn.Conv2d(1, 32, kernel_size=3, padding=1)   # output size = 8x8x32\n",
    "        self.conv2 = nn.Conv2d(32, 64, kernel_size=3, stride=2, padding=1)  # output size = 4x4x64\n",
    "        self.conv3 = nn.Conv2d(64, 128, kernel_size=3, padding=1)  # output size = 4x4x128\n",
    "        # Batch Normalization Layers\n",
    "        self.batchnorm1 = nn.BatchNorm2d(32)\n",
    "        self.batchnorm2 = nn.BatchNorm2d(64)\n",
    "        self.batchnorm3 = nn.BatchNorm2d(128)\n",
    "        \n",
    "        # Attention Layer (1 filter, 1x1 conv + sigmoid)\n",
    "        self.attention = nn.Conv2d(128, 1, kernel_size=1)\n",
    "\n",
    "        # Fully Connected Layers\n",
    "        self.fc1 = nn.Linear(128 * 4 * 4, 256)  # 4x4x128 -> 256\n",
    "        self.fc2 = nn.Linear(256, 64)  # 256-> 64\n",
    "\n",
    "        # Dropout for regularization\n",
    "        self.dropout = nn.Dropout(0.5)\n",
    "\n",
    "    def forward(self, x):\n",
    "        x = x.unsqueeze(1)  \n",
    "        x = F.relu(self.batchnorm1(self.conv1(x)))  \n",
    "        x = F.relu(self.batchnorm2(self.conv2(x)))  \n",
    "        x = F.relu(self.batchnorm3(self.conv3(x)))  \n",
    "\n",
    "        attn_weights = torch.sigmoid(self.attention(x))  # Compute attention weights (4x4x1)\n",
    "        x = x * attn_weights \n",
    "\n",
    "        x = x.view(x.size(0), -1)  # Flatten\n",
    "\n",
    "        x = self.dropout(F.relu(self.fc1(x)))\n",
    "        x = self.fc2(x)  # Output 64 logits (for 64 locations)\n",
    "\n",
    "        return x"
   ]
  },
  {
   "cell_type": "code",
   "execution_count": 7,
   "metadata": {},
   "outputs": [
    {
     "name": "stderr",
     "output_type": "stream",
     "text": [
      "C:\\Users\\randa\\AppData\\Local\\Temp\\ipykernel_27940\\485939076.py:5: FutureWarning: You are using `torch.load` with `weights_only=False` (the current default value), which uses the default pickle module implicitly. It is possible to construct malicious pickle data which will execute arbitrary code during unpickling (See https://github.com/pytorch/pytorch/blob/main/SECURITY.md#untrusted-models for more details). In a future release, the default value for `weights_only` will be flipped to `True`. This limits the functions that could be executed during unpickling. Arbitrary objects will no longer be allowed to be loaded via this mode unless they are explicitly allowlisted by the user via `torch.serialization.add_safe_globals`. We recommend you start setting `weights_only=True` for any use case where you don't have full control of the loaded file. Please open an issue on GitHub for any issues related to this experimental feature.\n",
      "  model = torch.load('models/CNN/'+modelname+'.pth', map_location=device)\n"
     ]
    },
    {
     "data": {
      "text/plain": [
       "CNN(\n",
       "  (conv1): Conv2d(1, 32, kernel_size=(3, 3), stride=(1, 1), padding=(1, 1))\n",
       "  (conv2): Conv2d(32, 64, kernel_size=(3, 3), stride=(2, 2), padding=(1, 1))\n",
       "  (conv3): Conv2d(64, 128, kernel_size=(3, 3), stride=(1, 1), padding=(1, 1))\n",
       "  (batchnorm1): BatchNorm2d(32, eps=1e-05, momentum=0.1, affine=True, track_running_stats=True)\n",
       "  (batchnorm2): BatchNorm2d(64, eps=1e-05, momentum=0.1, affine=True, track_running_stats=True)\n",
       "  (batchnorm3): BatchNorm2d(128, eps=1e-05, momentum=0.1, affine=True, track_running_stats=True)\n",
       "  (attention): Conv2d(128, 1, kernel_size=(1, 1), stride=(1, 1))\n",
       "  (fc1): Linear(in_features=2048, out_features=256, bias=True)\n",
       "  (fc2): Linear(in_features=256, out_features=64, bias=True)\n",
       "  (dropout): Dropout(p=0.5, inplace=False)\n",
       ")"
      ]
     },
     "execution_count": 7,
     "metadata": {},
     "output_type": "execute_result"
    }
   ],
   "source": [
    "# we trained the model with 8 features\n",
    "\n",
    "device = torch.device(\"cuda\" if torch.cuda.is_available() else \"cpu\")\n",
    "model = CNN()\n",
    "model = torch.load('models/CNN/'+modelname+'.pth', map_location=device)\n",
    "model.to(device)\n",
    "model.eval()  "
   ]
  },
  {
   "cell_type": "code",
   "execution_count": 8,
   "metadata": {},
   "outputs": [
    {
     "name": "stdout",
     "output_type": "stream",
     "text": [
      "Layer: conv1.weight | Trainable: False\n",
      "Layer: conv1.bias | Trainable: False\n",
      "Layer: conv2.weight | Trainable: False\n",
      "Layer: conv2.bias | Trainable: False\n",
      "Layer: conv3.weight | Trainable: True\n",
      "Layer: conv3.bias | Trainable: True\n",
      "Layer: batchnorm1.weight | Trainable: True\n",
      "Layer: batchnorm1.bias | Trainable: True\n",
      "Layer: batchnorm2.weight | Trainable: True\n",
      "Layer: batchnorm2.bias | Trainable: True\n",
      "Layer: batchnorm3.weight | Trainable: True\n",
      "Layer: batchnorm3.bias | Trainable: True\n",
      "Layer: attention.weight | Trainable: True\n",
      "Layer: attention.bias | Trainable: True\n",
      "Layer: fc1.weight | Trainable: True\n",
      "Layer: fc1.bias | Trainable: True\n",
      "Layer: fc2.weight | Trainable: True\n",
      "Layer: fc2.bias | Trainable: True\n"
     ]
    }
   ],
   "source": [
    "# #Original Model Evaluation\n",
    "# for param in model.conv1.parameters():\n",
    "#     param.requires_grad = False\n",
    "# for param in model.conv2.parameters():\n",
    "#     param.requires_grad = False\n",
    "# for param in model.conv3.parameters():\n",
    "#     param.requires_grad = False\n",
    "# for param in model.conv4.parameters():\n",
    "#     param.requires_grad = True\n",
    "\n",
    "# for param in model.fc1.parameters():\n",
    "#     param.requires_grad = True\n",
    "# for param in model.fc2.parameters():\n",
    "#     param.requires_grad = True\n",
    "# for param in model.fc3.parameters():\n",
    "#     param.requires_grad = True\n",
    "\n",
    "\n",
    "# for name, param in model.named_parameters():\n",
    "#     print(f\"Layer: {name} | Trainable: {param.requires_grad}\")\n",
    "\n",
    "#Small Model Evaluation\n",
    "\n",
    "for param in model.conv1.parameters():\n",
    "    param.requires_grad = False\n",
    "for param in model.conv2.parameters():\n",
    "    param.requires_grad = False\n",
    "for param in model.conv3.parameters():\n",
    "    param.requires_grad = True\n",
    "\n",
    "\n",
    "for param in model.fc1.parameters():\n",
    "    param.requires_grad = True\n",
    "for param in model.fc2.parameters():\n",
    "    param.requires_grad = True\n",
    "\n",
    "\n",
    "\n",
    "for name, param in model.named_parameters():\n",
    "    print(f\"Layer: {name} | Trainable: {param.requires_grad}\")\n"
   ]
  },
  {
   "cell_type": "code",
   "execution_count": null,
   "metadata": {},
   "outputs": [],
   "source": []
  },
  {
   "cell_type": "markdown",
   "metadata": {},
   "source": [
    "## Loading test data in "
   ]
  },
  {
   "cell_type": "code",
   "execution_count": 9,
   "metadata": {},
   "outputs": [],
   "source": [
    "model_path = './models/CNN/'\n",
    "\n",
    "import pickle\n",
    "\n",
    "with open('./Data/CNN_Data/CNN_test_data.pkl', 'rb') as f:\n",
    "    training_samples = pickle.load(f)\n"
   ]
  },
  {
   "cell_type": "code",
   "execution_count": 10,
   "metadata": {},
   "outputs": [
    {
     "name": "stdout",
     "output_type": "stream",
     "text": [
      "Generated training data shape: (6946, 8, 8)\n",
      "Generated labels shape: (6946, 2)\n"
     ]
    }
   ],
   "source": [
    "if training_samples:\n",
    "    X_Sequence = np.array([sample[0] for sample in training_samples])  # Shape: (num_samples, Tx, 8)\n",
    "    y_Sequence = np.array([sample[1] for sample in training_samples])  # Shape: (num_samples, 2) -> (X_Coord, Y_Coord)\n",
    "else:\n",
    "    X_Sequence = np.array([])\n",
    "    y_Sequence = np.array([])\n",
    "\n",
    "print(\"Generated training data shape:\", X_Sequence.shape)\n",
    "print(\"Generated labels shape:\", y_Sequence.shape)"
   ]
  },
  {
   "cell_type": "code",
   "execution_count": 11,
   "metadata": {},
   "outputs": [],
   "source": [
    "\n",
    "# Perform train-test split (80% train, 20% test)\n",
    "\n",
    "X_train_val, X_test, y_train_val, y_test = train_test_split(\n",
    "    X_Sequence, y_Sequence, test_size=0.15, random_state=42\n",
    ")\n",
    "\n",
    "X_train, X_val, y_train, y_val = train_test_split(\n",
    "    X_train_val, y_train_val, test_size=0.1765, random_state=42  # 0.1765 * 0.85 ≈ 0.15\n",
    ")\n",
    "\n",
    "# Convert (X_Coord, Y_Coord) to a single class index\n",
    "y_train = np.array([x * 8 + y for x, y in y_train])\n",
    "y_val = np.array([x * 8 + y for x, y in y_val])\n",
    "y_test = np.array([x * 8 + y for x, y in y_test])\n",
    "\n",
    "# Convert to PyTorch tensors\n",
    "X_train = torch.tensor(X_train, dtype=torch.float32)\n",
    "X_val = torch.tensor(X_val, dtype=torch.float32)\n",
    "X_test = torch.tensor(X_test, dtype=torch.float32)\n",
    "\n",
    "y_train = torch.tensor(y_train, dtype=torch.long)  # Must be long for classification\n",
    "y_val = torch.tensor(y_val, dtype=torch.long)\n",
    "y_test = torch.tensor(y_test, dtype=torch.long)\n",
    "\n",
    "# Move to GPU if available\n",
    "device = torch.device(\"cuda\" if torch.cuda.is_available() else \"cpu\")\n",
    "X_train, X_val, X_test = X_train.to(device), X_val.to(device), X_test.to(device)\n",
    "y_train, y_val, y_test = y_train.to(device), y_val.to(device), y_test.to(device)\n"
   ]
  },
  {
   "cell_type": "markdown",
   "metadata": {},
   "source": [
    "# Implementing transfer learning in test environment"
   ]
  },
  {
   "cell_type": "code",
   "execution_count": 12,
   "metadata": {},
   "outputs": [],
   "source": [
    "num_epochs = 100  # Adjust based on performance\n",
    "batch_size = 32\n",
    "\n",
    "criterion = nn.CrossEntropyLoss()\n",
    "optimizer = optim.AdamW(filter(lambda p: p.requires_grad, model.parameters()), lr=0.001, weight_decay = 1e-4)\n"
   ]
  },
  {
   "cell_type": "code",
   "execution_count": 13,
   "metadata": {},
   "outputs": [],
   "source": [
    "def evaluate_model(model, X, y, dataset_name, batch_size=32):\n",
    "    model.eval()\n",
    "    dataset = TensorDataset(X, y)\n",
    "    loader = DataLoader(dataset, batch_size=batch_size, shuffle=False)\n",
    "\n",
    "    correct = 0\n",
    "    total = 0\n",
    "    total_displacement = 0.0\n",
    "\n",
    "    with torch.no_grad():\n",
    "        for inputs, labels in loader:\n",
    "            inputs, labels = inputs.to(device), labels.to(device)  # Move data to GPU/CPU\n",
    "            outputs = model(inputs)\n",
    "            _, predicted = torch.max(outputs, 1)  # Get predicted class\n",
    "            total += labels.size(0)\n",
    "            correct += (predicted == labels).sum().item()\n",
    "            \n",
    "            # Convert predicted and actual labels back to (X, Y) coordinates\n",
    "            predicted_coords = torch.stack((predicted // 8, predicted % 8), dim=1).float()\n",
    "            actual_coords = torch.stack((labels // 8, labels % 8), dim=1).float()\n",
    "            \n",
    "            # Compute Euclidean distance (displacement)\n",
    "            displacement = torch.norm(predicted_coords - actual_coords, dim=1).sum().item()\n",
    "            total_displacement += displacement\n",
    "\n",
    "    accuracy = 100 * correct / total\n",
    "    average_displacement = total_displacement / total\n",
    "\n",
    "    print(f\"{dataset_name} Accuracy: {accuracy:.2f}%\")\n",
    "    print(f\"{dataset_name} Average Displacement Error: {average_displacement:.4f}\")\n"
   ]
  },
  {
   "cell_type": "code",
   "execution_count": 14,
   "metadata": {},
   "outputs": [
    {
     "name": "stdout",
     "output_type": "stream",
     "text": [
      "Test Accuracy: 3.36%\n",
      "Test Average Displacement Error: 3.6489\n"
     ]
    }
   ],
   "source": [
    "evaluate_model(model, X_test, y_test, \"Test\")"
   ]
  },
  {
   "cell_type": "code",
   "execution_count": 15,
   "metadata": {},
   "outputs": [
    {
     "name": "stdout",
     "output_type": "stream",
     "text": [
      "Epoch [1/100], Train Loss: 4.7302, Val Loss: 1.2151\n",
      "Epoch [2/100], Train Loss: 0.9337, Val Loss: 0.1851\n",
      "Epoch [3/100], Train Loss: 0.3401, Val Loss: 0.0551\n",
      "Epoch [4/100], Train Loss: 0.1946, Val Loss: 0.0239\n",
      "Epoch [5/100], Train Loss: 0.1131, Val Loss: 0.0160\n",
      "Epoch [6/100], Train Loss: 0.0917, Val Loss: 0.0091\n",
      "Epoch [7/100], Train Loss: 0.0759, Val Loss: 0.0078\n",
      "Epoch [8/100], Train Loss: 0.0558, Val Loss: 0.0064\n",
      "Epoch [9/100], Train Loss: 0.0504, Val Loss: 0.0052\n",
      "Epoch [10/100], Train Loss: 0.0480, Val Loss: 0.0051\n",
      "Epoch [11/100], Train Loss: 0.0326, Val Loss: 0.0043\n",
      "Epoch [12/100], Train Loss: 0.0346, Val Loss: 0.0025\n",
      "Epoch [13/100], Train Loss: 0.0320, Val Loss: 0.0033\n",
      "Epoch [14/100], Train Loss: 0.0235, Val Loss: 0.0026\n",
      "Epoch [15/100], Train Loss: 0.0203, Val Loss: 0.0027\n",
      "Epoch [16/100], Train Loss: 0.0260, Val Loss: 0.0017\n",
      "Epoch [17/100], Train Loss: 0.0288, Val Loss: 0.0019\n",
      "Epoch [18/100], Train Loss: 0.0144, Val Loss: 0.0009\n",
      "Epoch [19/100], Train Loss: 0.0166, Val Loss: 0.0018\n",
      "Epoch [20/100], Train Loss: 0.0219, Val Loss: 0.0006\n",
      "Epoch [21/100], Train Loss: 0.0156, Val Loss: 0.0038\n",
      "Epoch [22/100], Train Loss: 0.0176, Val Loss: 0.0009\n",
      "Epoch [23/100], Train Loss: 0.0288, Val Loss: 0.0015\n",
      "Epoch [24/100], Train Loss: 0.0177, Val Loss: 0.0032\n",
      "Epoch [25/100], Train Loss: 0.0169, Val Loss: 0.0110\n",
      "Epoch [26/100], Train Loss: 0.0149, Val Loss: 0.0037\n",
      "Epoch [27/100], Train Loss: 0.0085, Val Loss: 0.0060\n",
      "Epoch [28/100], Train Loss: 0.0116, Val Loss: 0.0040\n",
      "Epoch [29/100], Train Loss: 0.0117, Val Loss: 0.0024\n",
      "Epoch [30/100], Train Loss: 0.0151, Val Loss: 0.0033\n",
      "Epoch [31/100], Train Loss: 0.0194, Val Loss: 0.0029\n",
      "Epoch [32/100], Train Loss: 0.0082, Val Loss: 0.0009\n",
      "Epoch [33/100], Train Loss: 0.0068, Val Loss: 0.0044\n",
      "Epoch [34/100], Train Loss: 0.0107, Val Loss: 0.0046\n",
      "Epoch [35/100], Train Loss: 0.0108, Val Loss: 0.0025\n",
      "Epoch [36/100], Train Loss: 0.0175, Val Loss: 0.0070\n",
      "Epoch [37/100], Train Loss: 0.0144, Val Loss: 0.0054\n",
      "Epoch [38/100], Train Loss: 0.0179, Val Loss: 0.0015\n",
      "Epoch [39/100], Train Loss: 0.0100, Val Loss: 0.0006\n",
      "Epoch [40/100], Train Loss: 0.0126, Val Loss: 0.0001\n",
      "Epoch [41/100], Train Loss: 0.0075, Val Loss: 0.0017\n",
      "Epoch [42/100], Train Loss: 0.0072, Val Loss: 0.0010\n",
      "Epoch [43/100], Train Loss: 0.0048, Val Loss: 0.0061\n",
      "Epoch [44/100], Train Loss: 0.0185, Val Loss: 0.0013\n",
      "Epoch [45/100], Train Loss: 0.0125, Val Loss: 0.0007\n",
      "Epoch [46/100], Train Loss: 0.0170, Val Loss: 0.0011\n",
      "Epoch [47/100], Train Loss: 0.0106, Val Loss: 0.0014\n",
      "Epoch [48/100], Train Loss: 0.0052, Val Loss: 0.0010\n",
      "Epoch [49/100], Train Loss: 0.0085, Val Loss: 0.0011\n",
      "Epoch [50/100], Train Loss: 0.0106, Val Loss: 0.0020\n",
      "Epoch [51/100], Train Loss: 0.0110, Val Loss: 0.0071\n",
      "Epoch [52/100], Train Loss: 0.0116, Val Loss: 0.0028\n",
      "Epoch [53/100], Train Loss: 0.0082, Val Loss: 0.0063\n",
      "Epoch [54/100], Train Loss: 0.0059, Val Loss: 0.0010\n",
      "Epoch [55/100], Train Loss: 0.0072, Val Loss: 0.0012\n",
      "Epoch [56/100], Train Loss: 0.0072, Val Loss: 0.0023\n",
      "Epoch [57/100], Train Loss: 0.0091, Val Loss: 0.0081\n",
      "Epoch [58/100], Train Loss: 0.0114, Val Loss: 0.0034\n",
      "Epoch [59/100], Train Loss: 0.0067, Val Loss: 0.0052\n",
      "Epoch [60/100], Train Loss: 0.0082, Val Loss: 0.0019\n",
      "Early stopping at epoch 60\n",
      "Total training time: 23.67 seconds\n"
     ]
    }
   ],
   "source": [
    "import time\n",
    "patience = 20\n",
    "best_val_loss = float(\"inf\")\n",
    "\n",
    "train_dataset = TensorDataset(X_train, y_train)\n",
    "train_loader = DataLoader(train_dataset, batch_size=batch_size, shuffle=True)\n",
    "\n",
    "val_dataset = TensorDataset(X_val, y_val)\n",
    "val_loader = DataLoader(val_dataset, batch_size=batch_size, shuffle=False)\n",
    "\n",
    "# Training loop\n",
    "model.train()\n",
    "no_improve_epochs = 0  # Early stopping counter\n",
    "\n",
    "start_time = time.time()\n",
    "for epoch in range(num_epochs):\n",
    "    running_loss = 0.0\n",
    "\n",
    "    # Training phase\n",
    "    model.train()\n",
    "    for inputs, labels in train_loader:\n",
    "        inputs, labels = inputs.to(device), labels.to(device)  # Move data to GPU/CPU\n",
    "\n",
    "        optimizer.zero_grad()\n",
    "        outputs = model(inputs)  # Forward pass\n",
    "        loss = criterion(outputs, labels)  # Compute loss\n",
    "        loss.backward()  # Backpropagation\n",
    "        optimizer.step()  # Update weights\n",
    "        running_loss += loss.item()\n",
    "\n",
    "    avg_train_loss = running_loss / len(train_loader)\n",
    "\n",
    "    # Validation phase\n",
    "    model.eval()\n",
    "    val_loss = 0.0\n",
    "    with torch.no_grad():\n",
    "        for inputs, labels in val_loader:\n",
    "            inputs, labels = inputs.to(device), labels.to(device)\n",
    "            outputs = model(inputs)\n",
    "            loss = criterion(outputs, labels)\n",
    "            val_loss += loss.item()\n",
    "\n",
    "    avg_val_loss = val_loss / len(val_loader)\n",
    "\n",
    "    print(f\"Epoch [{epoch+1}/{num_epochs}], Train Loss: {avg_train_loss:.4f}, Val Loss: {avg_val_loss:.4f}\")\n",
    "\n",
    "    # Early stopping\n",
    "    if avg_val_loss < best_val_loss:\n",
    "        best_val_loss = avg_val_loss\n",
    "        no_improve_epochs = 0\n",
    "    else:\n",
    "        no_improve_epochs += 1\n",
    "\n",
    "    if no_improve_epochs >= patience:\n",
    "        print(f\"Early stopping at epoch {epoch + 1}\")\n",
    "        break\n",
    "\n",
    "total_training_time = time.time() - start_time\n",
    "print(f\"Total training time: {total_training_time:.2f} seconds\")\n"
   ]
  },
  {
   "cell_type": "code",
   "execution_count": 16,
   "metadata": {},
   "outputs": [
    {
     "name": "stdout",
     "output_type": "stream",
     "text": [
      "Train Accuracy: 100.00%\n",
      "Train Average Displacement Error: 0.0000\n",
      "Validation Accuracy: 99.90%\n",
      "Validation Average Displacement Error: 0.0049\n",
      "Test Accuracy: 99.90%\n",
      "Test Average Displacement Error: 0.0058\n"
     ]
    }
   ],
   "source": [
    "evaluate_model(model, X_train, y_train, \"Train\")\n",
    "evaluate_model(model, X_val, y_val, \"Validation\")\n",
    "evaluate_model(model, X_test, y_test, \"Test\")"
   ]
  }
 ],
 "metadata": {
  "kernelspec": {
   "display_name": ".venv",
   "language": "python",
   "name": "python3"
  },
  "language_info": {
   "codemirror_mode": {
    "name": "ipython",
    "version": 3
   },
   "file_extension": ".py",
   "mimetype": "text/x-python",
   "name": "python",
   "nbconvert_exporter": "python",
   "pygments_lexer": "ipython3",
   "version": "3.9.7"
  }
 },
 "nbformat": 4,
 "nbformat_minor": 2
}
