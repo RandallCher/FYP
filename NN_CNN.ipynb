{
 "cells": [
  {
   "cell_type": "markdown",
   "metadata": {},
   "source": [
    "# 1. loading datasets"
   ]
  },
  {
   "cell_type": "markdown",
   "metadata": {},
   "source": [
    "Training has to be done with dropout as data is not always present"
   ]
  },
  {
   "cell_type": "code",
   "execution_count": 530,
   "metadata": {},
   "outputs": [],
   "source": [
    "import torch\n",
    "import pandas as pd\n",
    "import numpy as np\n",
    "import time\n",
    "import joblib\n",
    "import seaborn as sns\n",
    "\n",
    "import matplotlib.pyplot as plt\n",
    "from sklearn.model_selection import train_test_split\n",
    "from sklearn.preprocessing import MinMaxScaler\n",
    "\n",
    "import torch.optim as optim\n",
    "from torch.utils.data import DataLoader, TensorDataset\n",
    "import torch.nn.functional as F\n",
    "import torch.nn as nn\n",
    "\n",
    "\n"
   ]
  },
  {
   "cell_type": "code",
   "execution_count": 531,
   "metadata": {},
   "outputs": [
    {
     "name": "stdout",
     "output_type": "stream",
     "text": [
      "PyTorch version: 2.5.0+cu118\n",
      "CUDA available: True\n",
      "Current CUDA device index: 0\n",
      "CUDA device name: NVIDIA GeForce RTX 4070 SUPER\n"
     ]
    }
   ],
   "source": [
    "\n",
    "from torch import nn \n",
    "\n",
    "# Check PyTorch version\n",
    "print(\"PyTorch version:\", torch.__version__)\n",
    "\n",
    "# Check if CUDA is available\n",
    "print(\"CUDA available:\", torch.cuda.is_available())\n",
    "\n",
    "# Get current CUDA device index (if available)\n",
    "if torch.cuda.is_available():\n",
    "    print(\"Current CUDA device index:\", torch.cuda.current_device())\n",
    "    print(\"CUDA device name:\", torch.cuda.get_device_name(torch.cuda.current_device()))\n",
    "else:\n",
    "    print(\"No CUDA devices found.\")\n",
    "    \n",
    "device = torch.device(\"cuda\" if torch.cuda.is_available() else \"cpu\")\n"
   ]
  },
  {
   "cell_type": "code",
   "execution_count": 532,
   "metadata": {},
   "outputs": [],
   "source": [
    "# Update with the correct path\n",
    "# file_path = './Data/12_Sep_Readings/combined_data.csv'  \n",
    "# file_path = './Data/15_Nov_Readings/augmented_rssi_dataset.csv'\n",
    "model_path = './models/CNN/'\n",
    "\n",
    "model_name = 'CNN_Attention_HWLab_2fold'\n",
    "model_data = './Data/CNN_Data/CNN_train_data_2fold'"
   ]
  },
  {
   "cell_type": "code",
   "execution_count": null,
   "metadata": {},
   "outputs": [],
   "source": []
  },
  {
   "cell_type": "code",
   "execution_count": 533,
   "metadata": {},
   "outputs": [],
   "source": [
    "\n",
    "import pickle\n",
    "\n",
    "with open( model_data+ '.pkl', 'rb') as f:\n",
    "    training_samples = pickle.load(f)\n",
    "\n",
    "\n"
   ]
  },
  {
   "cell_type": "code",
   "execution_count": 534,
   "metadata": {},
   "outputs": [
    {
     "name": "stdout",
     "output_type": "stream",
     "text": [
      "Generated training data shape: (11904, 8, 8)\n",
      "Generated labels shape: (11904, 2)\n"
     ]
    }
   ],
   "source": [
    "if training_samples:\n",
    "    X_Sequence = np.array([sample[0] for sample in training_samples])  # Shape: (num_samples, Tx, 8)\n",
    "    y_Sequence = np.array([sample[1] for sample in training_samples])  # Shape: (num_samples, 2) -> (X_Coord, Y_Coord)\n",
    "else:\n",
    "    X_Sequence = np.array([])\n",
    "    y_Sequence = np.array([])\n",
    "\n",
    "print(\"Generated training data shape:\", X_Sequence.shape)\n",
    "print(\"Generated labels shape:\", y_Sequence.shape)"
   ]
  },
  {
   "cell_type": "code",
   "execution_count": 535,
   "metadata": {},
   "outputs": [
    {
     "name": "stdout",
     "output_type": "stream",
     "text": [
      "Sample 1:\n",
      "[[-61 -61 -62 -61 -61 -61 -61 -61]\n",
      " [-74 -73 -75 -73 -75 -75 -75 -75]\n",
      " [-79 -78 -78 -80 -78 -78 -78 -79]\n",
      " [127 -71 -72 -71 -71 -71 -71 -71]\n",
      " [-81 127 -79 -83 -84 -82 -80 -82]\n",
      " [-78 -78 127 -78 -78 -80 -78 -78]\n",
      " [127 127 -84 127 -84 -82 -84 127]\n",
      " [-84 127 127 127 -86 -85 -84 127]]\n",
      "Label: [0 0]\n",
      "----------------------------------------\n",
      "Sample 2:\n",
      "[[-61 -62 -61 -61 -61 -61 -61 -61]\n",
      " [-73 -75 -73 -75 -75 -75 -75 -75]\n",
      " [-78 -78 -80 -78 -78 -78 -79 -79]\n",
      " [-71 -72 -71 -71 -71 -71 -71 -71]\n",
      " [127 -79 -83 -84 -82 -80 -82 -81]\n",
      " [-78 127 -78 -78 -80 -78 -78 -78]\n",
      " [127 -84 127 -84 -82 -84 127 127]\n",
      " [127 127 127 -86 -85 -84 127 127]]\n",
      "Label: [0 0]\n",
      "----------------------------------------\n"
     ]
    }
   ],
   "source": [
    "for i in range(2):\n",
    "    print(f\"Sample {i+1}:\")\n",
    "    print(X_Sequence[i])  # Prints the 8x8 RSSI matrix\n",
    "    print(f\"Label: {y_Sequence[i]}\")  # Prints (X_Coord, Y_Coord)\n",
    "    print(\"-\" * 40)"
   ]
  },
  {
   "cell_type": "code",
   "execution_count": 536,
   "metadata": {},
   "outputs": [],
   "source": [
    "from sklearn.model_selection import train_test_split\n",
    "\n",
    "# Perform train-test split (80% train, 20% test)\n",
    "X_train, X_test, y_train, y_test = train_test_split(\n",
    "    X_Sequence, y_Sequence, test_size=0.2, random_state=42\n",
    ")\n",
    "\n",
    "import torch\n",
    "import numpy as np\n",
    "\n",
    "# Convert (X_Coord, Y_Coord) to a single class index\n",
    "y_train = np.array([x * 8 + y for x, y in y_train])\n",
    "y_test = np.array([x * 8 + y for x, y in y_test])\n",
    "\n",
    "\n",
    "\n",
    "# Convert to PyTorch tensors\n",
    "X_train = torch.tensor(X_train, dtype=torch.float32)\n",
    "X_test = torch.tensor(X_test, dtype=torch.float32)\n",
    "y_train = torch.tensor(y_train, dtype=torch.long)  # Must be long for classification\n",
    "y_test = torch.tensor(y_test, dtype=torch.long)\n",
    "\n",
    "# Move to GPU if available\n",
    "device = torch.device(\"cuda\" if torch.cuda.is_available() else \"cpu\")\n",
    "X_train, X_test, y_train, y_test = X_train.to(device), X_test.to(device), y_train.to(device), y_test.to(device)\n"
   ]
  },
  {
   "cell_type": "markdown",
   "metadata": {},
   "source": [
    "# 2. NN model"
   ]
  },
  {
   "cell_type": "code",
   "execution_count": 537,
   "metadata": {},
   "outputs": [],
   "source": [
    "\n",
    "# # CNN original model\n",
    "# class CNN(nn.Module):\n",
    "#     def __init__(self):\n",
    "#         super(CNN, self).__init__()\n",
    "\n",
    "#         # Convolutional Layers\n",
    "#         self.conv1 = nn.Conv2d(1, 32, kernel_size=3, padding=1)   # output size = 8x8x32\n",
    "#         self.conv2 = nn.Conv2d(32, 64, kernel_size=3, stride=2, padding=1)  # output size = 4x4x64\n",
    "#         self.conv3 = nn.Conv2d(64, 128, kernel_size=3, padding=1)  # output size = 4x4x128\n",
    "#         self.conv4 = nn.Conv2d(128, 256, kernel_size=3, padding=1)  # output size = 4x4x256\n",
    "#         # Batch Normalization Layers\n",
    "#         self.batchnorm1 = nn.BatchNorm2d(32)\n",
    "#         self.batchnorm2 = nn.BatchNorm2d(64)\n",
    "#         self.batchnorm3 = nn.BatchNorm2d(128)\n",
    "#         self.batchnorm4 = nn.BatchNorm2d(256)\n",
    "#         # Fully Connected Layers\n",
    "#         self.fc1 = nn.Linear(256 * 4 * 4, 512)  # 4x4x256 -> 512\n",
    "#         self.fc2 = nn.Linear(512, 256)  # 512-> 256\n",
    "#         self.fc3 = nn.Linear(256, 64)  # 256-> 64\n",
    "\n",
    "#         # Dropout for regularization\n",
    "#         self.dropout = nn.Dropout(0.5)\n",
    "\n",
    "#     def forward(self, x):\n",
    "#         x = x.unsqueeze(1)  \n",
    "#         x = F.relu(self.batchnorm1(self.conv1(x)))  \n",
    "#         x = F.relu(self.batchnorm2(self.conv2(x)))  \n",
    "#         x = F.relu(self.batchnorm3(self.conv3(x)))  \n",
    "#         x = F.relu(self.batchnorm4(self.conv4(x))) \n",
    "\n",
    "#         x = x.view(x.size(0), -1)  # Flatten\n",
    "\n",
    "#         x = self.dropout(F.relu(self.fc1(x)))\n",
    "#         x = self.dropout(F.relu(self.fc2(x)))\n",
    "#         x = self.fc3(x)  # Output 64 logits (for 64 locations)\n",
    "\n",
    "#         return x"
   ]
  },
  {
   "cell_type": "code",
   "execution_count": 538,
   "metadata": {},
   "outputs": [],
   "source": [
    "# # CNN Small Model\n",
    "# class CNN(nn.Module):\n",
    "#     def __init__(self):\n",
    "#         super(CNN, self).__init__()\n",
    "\n",
    "#         # Convolutional Layers\n",
    "#         self.conv1 = nn.Conv2d(1, 32, kernel_size=3, padding=1)   # output size = 8x8x32\n",
    "#         self.conv2 = nn.Conv2d(32, 64, kernel_size=3, stride=2, padding=1)  # output size = 4x4x64\n",
    "#         self.conv3 = nn.Conv2d(64, 128, kernel_size=3, padding=1)  # output size = 4x4x128\n",
    "#         # Batch Normalization Layers\n",
    "#         self.batchnorm1 = nn.BatchNorm2d(32)\n",
    "#         self.batchnorm2 = nn.BatchNorm2d(64)\n",
    "#         self.batchnorm3 = nn.BatchNorm2d(128)\n",
    "\n",
    "#         # Fully Connected Layers\n",
    "#         self.fc1 = nn.Linear(128 * 4 * 4, 256)  # 4x4x128 -> 256\n",
    "#         self.fc2 = nn.Linear(256, 64)  # 256-> 64\n",
    "\n",
    "#         # Dropout for regularization\n",
    "#         self.dropout = nn.Dropout(0.5)\n",
    "\n",
    "#     def forward(self, x):\n",
    "#         x = x.unsqueeze(1)  \n",
    "#         x = F.relu(self.batchnorm1(self.conv1(x)))  \n",
    "#         x = F.relu(self.batchnorm2(self.conv2(x)))  \n",
    "#         x = F.relu(self.batchnorm3(self.conv3(x)))  \n",
    "\n",
    "#         x = x.view(x.size(0), -1)  # Flatten\n",
    "\n",
    "#         x = self.dropout(F.relu(self.fc1(x)))\n",
    "#         x = self.fc2(x)  # Output 64 logits (for 64 locations)\n",
    "\n",
    "#         return x"
   ]
  },
  {
   "cell_type": "code",
   "execution_count": 539,
   "metadata": {},
   "outputs": [],
   "source": [
    "# CNN Attention Model\n",
    "class CNN(nn.Module):\n",
    "    def __init__(self):\n",
    "        super(CNN, self).__init__()\n",
    "\n",
    "        # Convolutional Layers\n",
    "        self.conv1 = nn.Conv2d(1, 32, kernel_size=3, padding=1)   # output size = 8x8x32\n",
    "        self.conv2 = nn.Conv2d(32, 64, kernel_size=3, stride=2, padding=1)  # output size = 4x4x64\n",
    "        self.conv3 = nn.Conv2d(64, 128, kernel_size=3, padding=1)  # output size = 4x4x128\n",
    "        # Batch Normalization Layers\n",
    "        self.batchnorm1 = nn.BatchNorm2d(32)\n",
    "        self.batchnorm2 = nn.BatchNorm2d(64)\n",
    "        self.batchnorm3 = nn.BatchNorm2d(128)\n",
    "        \n",
    "        # Attention Layer (1 filter, 1x1 conv + sigmoid)\n",
    "        self.attention = nn.Conv2d(128, 1, kernel_size=1)\n",
    "\n",
    "        # Fully Connected Layers\n",
    "        self.fc1 = nn.Linear(128 * 4 * 4, 256)  # 4x4x128 -> 256\n",
    "        self.fc2 = nn.Linear(256, 64)  # 256-> 64\n",
    "\n",
    "        # Dropout for regularization\n",
    "        self.dropout = nn.Dropout(0.5)\n",
    "\n",
    "    def forward(self, x):\n",
    "        x = x.unsqueeze(1)  \n",
    "        x = F.relu(self.batchnorm1(self.conv1(x)))  \n",
    "        x = F.relu(self.batchnorm2(self.conv2(x)))  \n",
    "        x = F.relu(self.batchnorm3(self.conv3(x)))  \n",
    "\n",
    "        attn_weights = torch.sigmoid(self.attention(x))  # Compute attention weights (4x4x1)\n",
    "        x = x * attn_weights \n",
    "\n",
    "        x = x.view(x.size(0), -1)  # Flatten\n",
    "\n",
    "        x = self.dropout(F.relu(self.fc1(x)))\n",
    "        x = self.fc2(x)  # Output 64 logits (for 64 locations)\n",
    "\n",
    "        return x"
   ]
  },
  {
   "cell_type": "code",
   "execution_count": 540,
   "metadata": {},
   "outputs": [],
   "source": [
    "model = CNN().to(device)\n",
    "criterion = nn.CrossEntropyLoss()  # Use CrossEntropyLoss for classification\n",
    "optimizer = torch.optim.Adam(model.parameters(), lr=0.001, weight_decay=1e-5)"
   ]
  },
  {
   "cell_type": "code",
   "execution_count": 541,
   "metadata": {},
   "outputs": [
    {
     "name": "stdout",
     "output_type": "stream",
     "text": [
      "CNN(\n",
      "  (conv1): Conv2d(1, 32, kernel_size=(3, 3), stride=(1, 1), padding=(1, 1))\n",
      "  (conv2): Conv2d(32, 64, kernel_size=(3, 3), stride=(2, 2), padding=(1, 1))\n",
      "  (conv3): Conv2d(64, 128, kernel_size=(3, 3), stride=(1, 1), padding=(1, 1))\n",
      "  (batchnorm1): BatchNorm2d(32, eps=1e-05, momentum=0.1, affine=True, track_running_stats=True)\n",
      "  (batchnorm2): BatchNorm2d(64, eps=1e-05, momentum=0.1, affine=True, track_running_stats=True)\n",
      "  (batchnorm3): BatchNorm2d(128, eps=1e-05, momentum=0.1, affine=True, track_running_stats=True)\n",
      "  (attention): Conv2d(128, 1, kernel_size=(1, 1), stride=(1, 1))\n",
      "  (fc1): Linear(in_features=2048, out_features=256, bias=True)\n",
      "  (fc2): Linear(in_features=256, out_features=64, bias=True)\n",
      "  (dropout): Dropout(p=0.5, inplace=False)\n",
      ")\n"
     ]
    }
   ],
   "source": [
    "print(model)"
   ]
  },
  {
   "cell_type": "code",
   "execution_count": 542,
   "metadata": {},
   "outputs": [],
   "source": [
    "# Training loop\n",
    "num_epochs = 200\n",
    "patience = 10\n",
    "batch_size = 32\n",
    "best_val_loss = float('inf')\n",
    "epochs_without_improvement = 0"
   ]
  },
  {
   "cell_type": "code",
   "execution_count": 543,
   "metadata": {},
   "outputs": [
    {
     "name": "stdout",
     "output_type": "stream",
     "text": [
      "Epoch [10/200], Train Loss: 0.2994, Val Loss: 0.3301, ADE: 0.3302 grid units\n",
      "Epoch [20/200], Train Loss: 0.1256, Val Loss: 0.2460, ADE: 0.2345 grid units\n",
      "Epoch [30/200], Train Loss: 0.0771, Val Loss: 0.1933, ADE: 0.1853 grid units\n",
      "Epoch [40/200], Train Loss: 0.0497, Val Loss: 0.1820, ADE: 0.1753 grid units\n",
      "Early stopping at epoch 49\n",
      "Total training time: 42.01 seconds\n"
     ]
    }
   ],
   "source": [
    "import numpy as np\n",
    "import time\n",
    "\n",
    "train_losses = []\n",
    "val_losses = []\n",
    "val_ade = []\n",
    "start_time = time.time()\n",
    "\n",
    "# Move data to GPU\n",
    "X_train, y_train = X_train.to(device), y_train.to(device)\n",
    "X_test, y_test = X_test.to(device), y_test.to(device)\n",
    "\n",
    "# Create DataLoader for mini-batch training\n",
    "train_dataset = TensorDataset(X_train, y_train)\n",
    "train_loader = DataLoader(train_dataset, batch_size=batch_size, shuffle=True)\n",
    "\n",
    "best_val_loss = float(\"inf\")\n",
    "epochs_without_improvement = 0\n",
    "\n",
    "for epoch in range(num_epochs):\n",
    "    model.train()\n",
    "    running_loss = 0.0  # Track loss across mini-batches\n",
    "\n",
    "    for inputs, labels in train_loader:\n",
    "        inputs, labels = inputs.to(device), labels.to(device)  # Move to GPU\n",
    "\n",
    "        optimizer.zero_grad()  # Reset gradients\n",
    "        outputs = model(inputs)  # Mini-batch forward pass\n",
    "        loss = criterion(outputs, labels)  # Compute loss\n",
    "        loss.backward()  # Backpropagation\n",
    "        optimizer.step()  # Update weights\n",
    "\n",
    "        running_loss += loss.item()  # Accumulate loss\n",
    "\n",
    "    avg_train_loss = running_loss / len(train_loader)  # Compute avg loss\n",
    "\n",
    "    # Validation\n",
    "    model.eval()\n",
    "    val_loss = 0.0\n",
    "    with torch.no_grad():\n",
    "        val_outputs = model(X_test)\n",
    "        val_loss = criterion(val_outputs, y_test).item()\n",
    "\n",
    "        # Compute Average Displacement Error (ADE)\n",
    "        predicted_classes = torch.argmax(val_outputs, dim=1).cpu().numpy()  # Class indices (0-63)\n",
    "        actual_classes = y_test.cpu().numpy()\n",
    "\n",
    "        # Convert class indices to (X, Y) coordinates\n",
    "        predicted_x = predicted_classes % 8\n",
    "        predicted_y = predicted_classes // 8\n",
    "        predicted_coords = np.stack((predicted_x, predicted_y), axis=1)\n",
    "\n",
    "        actual_x = actual_classes % 8\n",
    "        actual_y = actual_classes // 8\n",
    "        actual_coords = np.stack((actual_x, actual_y), axis=1)\n",
    "\n",
    "        # Compute Euclidean distances\n",
    "        displacements = np.linalg.norm(predicted_coords - actual_coords, axis=1)\n",
    "        average_displacement = np.mean(displacements)\n",
    "\n",
    "    # Store losses and ADE\n",
    "    train_losses.append(avg_train_loss)\n",
    "    val_losses.append(val_loss)\n",
    "    val_ade.append(average_displacement)\n",
    "\n",
    "    # Early stopping\n",
    "    if val_loss < best_val_loss:\n",
    "        best_val_loss = val_loss\n",
    "        epochs_without_improvement = 0\n",
    "    else:\n",
    "        epochs_without_improvement += 1\n",
    "\n",
    "    if epochs_without_improvement >= patience:\n",
    "        print(f\"Early stopping at epoch {epoch + 1}\")\n",
    "        break\n",
    "\n",
    "    if (epoch + 1) % 10 == 0:\n",
    "        print(f\"Epoch [{epoch + 1}/{num_epochs}], Train Loss: {avg_train_loss:.4f}, \"\n",
    "              f\"Val Loss: {val_loss:.4f}, ADE: {average_displacement:.4f} grid units\")\n",
    "\n",
    "total_training_time = time.time() - start_time\n",
    "print(f\"Total training time: {total_training_time:.2f} seconds\")\n"
   ]
  },
  {
   "cell_type": "code",
   "execution_count": 544,
   "metadata": {},
   "outputs": [],
   "source": [
    "torch.save(model, model_path+model_name+\".pth\")  \n"
   ]
  },
  {
   "cell_type": "code",
   "execution_count": 545,
   "metadata": {},
   "outputs": [
    {
     "name": "stdout",
     "output_type": "stream",
     "text": [
      "Predicted X and Y coordinates:\n",
      "[[6 1]\n",
      " [2 1]\n",
      " [5 0]\n",
      " [2 2]\n",
      " [0 2]\n",
      " [6 4]\n",
      " [7 0]\n",
      " [5 0]\n",
      " [3 3]\n",
      " [2 6]]\n",
      "\n",
      "Actual X and Y coordinates:\n",
      "[[6 1]\n",
      " [2 1]\n",
      " [5 0]\n",
      " [2 2]\n",
      " [0 2]\n",
      " [6 4]\n",
      " [7 0]\n",
      " [5 0]\n",
      " [3 3]\n",
      " [4 3]]\n"
     ]
    },
    {
     "name": "stderr",
     "output_type": "stream",
     "text": [
      "C:\\Users\\randa\\AppData\\Local\\Temp\\ipykernel_16016\\180245204.py:9: UserWarning: To copy construct from a tensor, it is recommended to use sourceTensor.clone().detach() or sourceTensor.clone().detach().requires_grad_(True), rather than torch.tensor(sourceTensor).\n",
      "  inputs = torch.tensor(inputs, dtype=torch.float32).to(device)\n"
     ]
    }
   ],
   "source": [
    "model.eval()\n",
    "model.to(device)\n",
    "\n",
    "# Select first 10 samples for testing\n",
    "inputs = X_test[:10]\n",
    "actual_targets = y_test[:10]\n",
    "\n",
    "\n",
    "inputs = torch.tensor(inputs, dtype=torch.float32).to(device)\n",
    "with torch.no_grad():\n",
    "    preds = model(inputs)\n",
    "predicted_coords = torch.round(preds).to(torch.int).cpu().numpy()\n",
    "actual_targets = actual_targets.cpu().numpy()\n",
    "\n",
    "# print(\"Predicted X and Y coordinates:\")\n",
    "# print(predicted_coords)  \n",
    "\n",
    "# print(\"\\nActual X and Y coordinates:\")\n",
    "# print(actual_targets)\n",
    "\n",
    "predicted_classes = torch.argmax(preds, dim=1).cpu().numpy()\n",
    "predicted_x = predicted_classes % 8\n",
    "predicted_y = predicted_classes // 8\n",
    "predicted_coords = np.stack((predicted_x, predicted_y), axis=1) \n",
    "\n",
    "print(\"Predicted X and Y coordinates:\")\n",
    "print(predicted_coords)  \n",
    "\n",
    "# Convert actual class indices to (X, Y) coordinates\n",
    "actual_x = actual_targets % 8\n",
    "actual_y = actual_targets // 8\n",
    "actual_coords = np.stack((actual_x, actual_y), axis=1)  \n",
    "\n",
    "print(\"\\nActual X and Y coordinates:\")\n",
    "print(actual_coords)\n",
    "\n",
    "# Shape: [x,y]"
   ]
  },
  {
   "cell_type": "code",
   "execution_count": null,
   "metadata": {},
   "outputs": [],
   "source": []
  },
  {
   "cell_type": "code",
   "execution_count": 546,
   "metadata": {},
   "outputs": [
    {
     "data": {
      "image/png": "[encoded data removed]",
      "text/plain": [
       "<Figure size 640x480 with 1 Axes>"
      ]
     },
     "metadata": {},
     "output_type": "display_data"
    }
   ],
   "source": [
    "plt.plot(range(len(train_losses)), train_losses, label='Train Loss')\n",
    "plt.plot(range(len(val_losses)), val_losses, label='Validation Loss')\n",
    "plt.xlabel('Epochs')\n",
    "plt.ylabel('Loss')\n",
    "plt.legend()\n",
    "plt.title('Training and Validation Losses')\n",
    "plt.savefig(\"./Figures/training_loss_plot_CNN.png\")  # Save as PNG file\n",
    "plt.show()"
   ]
  }
 ],
 "metadata": {
  "kernelspec": {
   "display_name": ".venv",
   "language": "python",
   "name": "python3"
  },
  "language_info": {
   "codemirror_mode": {
    "name": "ipython",
    "version": 3
   },
   "file_extension": ".py",
   "mimetype": "text/x-python",
   "name": "python",
   "nbconvert_exporter": "python",
   "pygments_lexer": "ipython3",
   "version": "3.9.7"
  }
 },
 "nbformat": 4,
 "nbformat_minor": 2
}
