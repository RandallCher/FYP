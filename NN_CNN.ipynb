{
 "cells": [
  {
   "cell_type": "markdown",
   "metadata": {},
   "source": [
    "# 1. loading datasets"
   ]
  },
  {
   "cell_type": "markdown",
   "metadata": {},
   "source": [
    "Training has to be done with dropout as data is not always present"
   ]
  },
  {
   "cell_type": "code",
   "execution_count": 85,
   "metadata": {},
   "outputs": [],
   "source": [
    "import torch\n",
    "import pandas as pd\n",
    "import numpy as np\n",
    "import time\n",
    "import joblib\n",
    "import seaborn as sns\n",
    "\n",
    "import matplotlib.pyplot as plt\n",
    "from sklearn.model_selection import train_test_split\n",
    "from sklearn.preprocessing import MinMaxScaler\n",
    "\n",
    "import torch.optim as optim\n",
    "from torch.utils.data import DataLoader, TensorDataset\n",
    "import torch.nn.functional as F\n",
    "\n",
    "\n"
   ]
  },
  {
   "cell_type": "code",
   "execution_count": 86,
   "metadata": {},
   "outputs": [
    {
     "name": "stdout",
     "output_type": "stream",
     "text": [
      "PyTorch version: 2.4.1+cpu\n",
      "CUDA available: False\n",
      "No CUDA devices found.\n"
     ]
    }
   ],
   "source": [
    "\n",
    "from torch import nn \n",
    "\n",
    "# Check PyTorch version\n",
    "print(\"PyTorch version:\", torch.__version__)\n",
    "\n",
    "# Check if CUDA is available\n",
    "print(\"CUDA available:\", torch.cuda.is_available())\n",
    "\n",
    "# Get current CUDA device index (if available)\n",
    "if torch.cuda.is_available():\n",
    "    print(\"Current CUDA device index:\", torch.cuda.current_device())\n",
    "    print(\"CUDA device name:\", torch.cuda.get_device_name(torch.cuda.current_device()))\n",
    "else:\n",
    "    print(\"No CUDA devices found.\")\n",
    "    \n",
    "device = torch.device(\"cuda\" if torch.cuda.is_available() else \"cpu\")\n"
   ]
  },
  {
   "cell_type": "code",
   "execution_count": 87,
   "metadata": {},
   "outputs": [],
   "source": [
    "# Update with the correct path\n",
    "# file_path = './Data/12_Sep_Readings/combined_data.csv'  \n",
    "# file_path = './Data/15_Nov_Readings/augmented_rssi_dataset.csv'\n",
    "model_path = './models/CNN/'"
   ]
  },
  {
   "cell_type": "code",
   "execution_count": null,
   "metadata": {},
   "outputs": [],
   "source": []
  },
  {
   "cell_type": "code",
   "execution_count": 88,
   "metadata": {},
   "outputs": [],
   "source": [
    "\n",
    "import pickle\n",
    "\n",
    "with open('./Data/CNN_Data/CNN_test_data.pkl', 'rb') as f:\n",
    "    training_samples = pickle.load(f)\n",
    "\n",
    "\n"
   ]
  },
  {
   "cell_type": "code",
   "execution_count": 89,
   "metadata": {},
   "outputs": [
    {
     "name": "stdout",
     "output_type": "stream",
     "text": [
      "Generated training data shape: (6946, 8, 8)\n",
      "Generated labels shape: (6946, 2)\n"
     ]
    }
   ],
   "source": [
    "if training_samples:\n",
    "    X_Sequence = np.array([sample[0] for sample in training_samples])  # Shape: (num_samples, Tx, 8)\n",
    "    y_Sequence = np.array([sample[1] for sample in training_samples])  # Shape: (num_samples, 2) -> (X_Coord, Y_Coord)\n",
    "else:\n",
    "    X_Sequence = np.array([])\n",
    "    y_Sequence = np.array([])\n",
    "\n",
    "print(\"Generated training data shape:\", X_Sequence.shape)\n",
    "print(\"Generated labels shape:\", y_Sequence.shape)"
   ]
  },
  {
   "cell_type": "code",
   "execution_count": 90,
   "metadata": {},
   "outputs": [
    {
     "name": "stdout",
     "output_type": "stream",
     "text": [
      "Sample 1:\n",
      "[[-54 -54 -54 -54 -54 -54 -54 -54]\n",
      " [-77 -77 127 -77 -77 -78 -78 127]\n",
      " [-74 127 127 -74 127 -75 127 127]\n",
      " [127 -81 127 -82 127 127 127 -82]\n",
      " [127 127 127 127 127 127 127 127]\n",
      " [-78 127 127 127 -78 127 -77 -77]\n",
      " [127 -81 127 -82 -80 -79 -81 127]\n",
      " [-71 -71 -71 -70 -70 127 -71 -71]]\n",
      "Label: [0 0]\n",
      "----------------------------------------\n",
      "Sample 2:\n",
      "[[-54 -54 -54 -54 -54 -54 -54 -54]\n",
      " [-77 127 -77 -77 -78 -78 127 -76]\n",
      " [127 127 -74 127 -75 127 127 -74]\n",
      " [-81 127 -82 127 127 127 -82 -83]\n",
      " [127 127 127 127 127 127 127 127]\n",
      " [127 127 127 -78 127 -77 -77 127]\n",
      " [-81 127 -82 -80 -79 -81 127 -79]\n",
      " [-71 -71 -70 -70 127 -71 -71 -71]]\n",
      "Label: [0 0]\n",
      "----------------------------------------\n"
     ]
    }
   ],
   "source": [
    "for i in range(2):\n",
    "    print(f\"Sample {i+1}:\")\n",
    "    print(X_Sequence[i])  # Prints the 8x8 RSSI matrix\n",
    "    print(f\"Label: {y_Sequence[i]}\")  # Prints (X_Coord, Y_Coord)\n",
    "    print(\"-\" * 40)"
   ]
  },
  {
   "cell_type": "code",
   "execution_count": 91,
   "metadata": {},
   "outputs": [],
   "source": [
    "from sklearn.model_selection import train_test_split\n",
    "\n",
    "# Perform train-test split (80% train, 20% test)\n",
    "X_train, X_test, y_train, y_test = train_test_split(\n",
    "    X_Sequence, y_Sequence, test_size=0.2, random_state=42\n",
    ")\n",
    "\n",
    "import torch\n",
    "import numpy as np\n",
    "\n",
    "# Convert (X_Coord, Y_Coord) to a single class index\n",
    "y_train = np.array([x * 8 + y for x, y in y_train])\n",
    "y_test = np.array([x * 8 + y for x, y in y_test])\n",
    "\n",
    "\n",
    "\n",
    "# Convert to PyTorch tensors\n",
    "X_train = torch.tensor(X_train, dtype=torch.float32)\n",
    "X_test = torch.tensor(X_test, dtype=torch.float32)\n",
    "y_train = torch.tensor(y_train, dtype=torch.long)  # Must be long for classification\n",
    "y_test = torch.tensor(y_test, dtype=torch.long)\n",
    "\n",
    "# Move to GPU if available\n",
    "device = torch.device(\"cuda\" if torch.cuda.is_available() else \"cpu\")\n",
    "X_train, X_test, y_train, y_test = X_train.to(device), X_test.to(device), y_train.to(device), y_test.to(device)\n"
   ]
  },
  {
   "cell_type": "markdown",
   "metadata": {},
   "source": [
    "# 2. NN model"
   ]
  },
  {
   "cell_type": "code",
   "execution_count": 92,
   "metadata": {},
   "outputs": [],
   "source": [
    "import torch\n",
    "import torch.nn as nn\n",
    "import torch.nn.functional as F\n",
    "\n",
    "class CNN(nn.Module):\n",
    "    def __init__(self):\n",
    "        super(CNN, self).__init__()\n",
    "\n",
    "        # Convolutional Layers\n",
    "        self.conv1 = nn.Conv2d(1, 32, kernel_size=3, padding=1)   # output size = 8x8x32\n",
    "        self.conv2 = nn.Conv2d(32, 64, kernel_size=3, stride=2, padding=1)  # output size = 4x4x64\n",
    "        self.conv3 = nn.Conv2d(64, 128, kernel_size=3, padding=1)  # output size = 4x4x128\n",
    "        self.conv4 = nn.Conv2d(128, 256, kernel_size=3, padding=1)  # output size = 4x4x256\n",
    "        # Batch Normalization Layers\n",
    "        self.batchnorm1 = nn.BatchNorm2d(32)\n",
    "        self.batchnorm2 = nn.BatchNorm2d(64)\n",
    "        self.batchnorm3 = nn.BatchNorm2d(128)\n",
    "        self.batchnorm4 = nn.BatchNorm2d(256)\n",
    "        # Fully Connected Layers\n",
    "        self.fc1 = nn.Linear(256 * 4 * 4, 512)  # 4x4x256 -> 512\n",
    "        self.fc2 = nn.Linear(512, 256)  # 512-> 256\n",
    "        self.fc3 = nn.Linear(256, 64)  # 256-> 64\n",
    "\n",
    "        # Dropout for regularization\n",
    "        self.dropout = nn.Dropout(0.5)\n",
    "\n",
    "    def forward(self, x):\n",
    "        x = x.unsqueeze(1)  \n",
    "        x = F.relu(self.batchnorm1(self.conv1(x)))  \n",
    "        x = F.relu(self.batchnorm2(self.conv2(x)))  \n",
    "        x = F.relu(self.batchnorm3(self.conv3(x)))  \n",
    "        x = F.relu(self.batchnorm4(self.conv4(x))) \n",
    "\n",
    "        x = x.view(x.size(0), -1)  # Flatten\n",
    "\n",
    "        x = self.dropout(F.relu(self.fc1(x)))\n",
    "        x = self.dropout(F.relu(self.fc2(x)))\n",
    "        x = self.fc3(x)  # Output 64 logits (for 64 locations)\n",
    "\n",
    "        return x"
   ]
  },
  {
   "cell_type": "code",
   "execution_count": 93,
   "metadata": {},
   "outputs": [],
   "source": [
    "model = CNN().to(device)\n",
    "criterion = nn.CrossEntropyLoss()  # Use CrossEntropyLoss for classification\n",
    "optimizer = torch.optim.Adam(model.parameters(), lr=0.001, weight_decay=1e-5)"
   ]
  },
  {
   "cell_type": "code",
   "execution_count": 94,
   "metadata": {},
   "outputs": [
    {
     "name": "stdout",
     "output_type": "stream",
     "text": [
      "CNN(\n",
      "  (conv1): Conv2d(1, 32, kernel_size=(3, 3), stride=(1, 1), padding=(1, 1))\n",
      "  (conv2): Conv2d(32, 64, kernel_size=(3, 3), stride=(2, 2), padding=(1, 1))\n",
      "  (conv3): Conv2d(64, 128, kernel_size=(3, 3), stride=(1, 1), padding=(1, 1))\n",
      "  (conv4): Conv2d(128, 256, kernel_size=(3, 3), stride=(1, 1), padding=(1, 1))\n",
      "  (batchnorm1): BatchNorm2d(32, eps=1e-05, momentum=0.1, affine=True, track_running_stats=True)\n",
      "  (batchnorm2): BatchNorm2d(64, eps=1e-05, momentum=0.1, affine=True, track_running_stats=True)\n",
      "  (batchnorm3): BatchNorm2d(128, eps=1e-05, momentum=0.1, affine=True, track_running_stats=True)\n",
      "  (batchnorm4): BatchNorm2d(256, eps=1e-05, momentum=0.1, affine=True, track_running_stats=True)\n",
      "  (fc1): Linear(in_features=4096, out_features=512, bias=True)\n",
      "  (fc2): Linear(in_features=512, out_features=256, bias=True)\n",
      "  (fc3): Linear(in_features=256, out_features=64, bias=True)\n",
      "  (dropout): Dropout(p=0.5, inplace=False)\n",
      ")\n"
     ]
    }
   ],
   "source": [
    "print(model)"
   ]
  },
  {
   "cell_type": "code",
   "execution_count": null,
   "metadata": {},
   "outputs": [],
   "source": [
    "# Training loop\n",
    "num_epochs = 200\n",
    "patience = 20\n",
    "best_val_loss = float('inf')\n",
    "epochs_without_improvement = 0"
   ]
  },
  {
   "cell_type": "code",
   "execution_count": 96,
   "metadata": {},
   "outputs": [
    {
     "name": "stdout",
     "output_type": "stream",
     "text": [
      "Epoch [10/200], Train Loss: 2.8442, Val Loss: 3.3115, ADE: 2.6152 grid units\n",
      "Epoch [20/200], Train Loss: 1.9669, Val Loss: 2.2664, ADE: 2.4831 grid units\n",
      "Epoch [30/200], Train Loss: 1.3553, Val Loss: 2.6506, ADE: 2.8225 grid units\n",
      "Epoch [40/200], Train Loss: 0.8686, Val Loss: 3.4559, ADE: 2.8940 grid units\n",
      "Epoch [50/200], Train Loss: 0.4570, Val Loss: 3.0189, ADE: 2.3298 grid units\n",
      "Early stopping at epoch 55\n"
     ]
    }
   ],
   "source": [
    "import numpy as np\n",
    "\n",
    "train_losses = []\n",
    "val_losses = []\n",
    "val_ade = []  # Store ADE values\n",
    "\n",
    "for epoch in range(num_epochs):\n",
    "    model.train()\n",
    "    optimizer.zero_grad()\n",
    "\n",
    "    # Forward pass\n",
    "    outputs = model(X_train)  # Shape (batch_size, 64)\n",
    "    loss = criterion(outputs, y_train)  # `y_train` is shape (batch_size,)\n",
    "\n",
    "    # Backpropagation\n",
    "    loss.backward()\n",
    "    optimizer.step()\n",
    "\n",
    "    # Validation\n",
    "    model.eval()\n",
    "    with torch.no_grad():\n",
    "        val_outputs = model(X_test)  # (batch_size, 64)\n",
    "        val_loss = criterion(val_outputs, y_test)  # Compute validation loss\n",
    "\n",
    "        # Compute Average Displacement Error (ADE)\n",
    "        predicted_classes = torch.argmax(val_outputs, dim=1).cpu().numpy()  # Class indices (0-63)\n",
    "        actual_classes = y_test.cpu().numpy()\n",
    "\n",
    "        # Convert class indices to (X, Y) coordinates\n",
    "        predicted_x = predicted_classes % 8\n",
    "        predicted_y = predicted_classes // 8\n",
    "        predicted_coords = np.stack((predicted_x, predicted_y), axis=1)\n",
    "\n",
    "        actual_x = actual_classes % 8\n",
    "        actual_y = actual_classes // 8\n",
    "        actual_coords = np.stack((actual_x, actual_y), axis=1)\n",
    "\n",
    "        # Compute Euclidean distances\n",
    "        displacements = np.linalg.norm(predicted_coords - actual_coords, axis=1)\n",
    "\n",
    "        # Compute Average Displacement Error\n",
    "        average_displacement = np.mean(displacements)\n",
    "\n",
    "    # Store losses and ADE\n",
    "    train_losses.append(loss.item())\n",
    "    val_losses.append(val_loss.item())\n",
    "    val_ade.append(average_displacement)\n",
    "\n",
    "    # Early stopping\n",
    "    if val_loss < best_val_loss:\n",
    "        best_val_loss = val_loss\n",
    "        epochs_without_improvement = 0\n",
    "    else:\n",
    "        epochs_without_improvement += 1\n",
    "\n",
    "    if epochs_without_improvement >= patience:\n",
    "        print(f\"Early stopping at epoch {epoch + 1}\")\n",
    "        break\n",
    "\n",
    "    if (epoch + 1) % 10 == 0:\n",
    "        print(f\"Epoch [{epoch + 1}/{num_epochs}], Train Loss: {loss.item():.4f}, \"\n",
    "              f\"Val Loss: {val_loss.item():.4f}, ADE: {average_displacement:.4f} grid units\")\n"
   ]
  },
  {
   "cell_type": "code",
   "execution_count": 97,
   "metadata": {},
   "outputs": [],
   "source": [
    "torch.save(model, model_path+\"CNN_Original_SWLab.pth\")  \n"
   ]
  },
  {
   "cell_type": "code",
   "execution_count": 98,
   "metadata": {},
   "outputs": [
    {
     "name": "stdout",
     "output_type": "stream",
     "text": [
      "Predicted X and Y coordinates:\n",
      "[[0 0]\n",
      " [7 7]\n",
      " [0 1]\n",
      " [0 4]\n",
      " [7 7]\n",
      " [0 3]\n",
      " [3 7]\n",
      " [0 5]\n",
      " [0 3]\n",
      " [7 1]]\n",
      "\n",
      "Actual X and Y coordinates:\n",
      "[[3 1]\n",
      " [4 5]\n",
      " [0 1]\n",
      " [4 7]\n",
      " [7 7]\n",
      " [1 3]\n",
      " [7 4]\n",
      " [3 0]\n",
      " [0 3]\n",
      " [6 0]]\n"
     ]
    },
    {
     "name": "stderr",
     "output_type": "stream",
     "text": [
      "C:\\Users\\randa\\AppData\\Local\\Temp\\ipykernel_15816\\180245204.py:9: UserWarning: To copy construct from a tensor, it is recommended to use sourceTensor.clone().detach() or sourceTensor.clone().detach().requires_grad_(True), rather than torch.tensor(sourceTensor).\n",
      "  inputs = torch.tensor(inputs, dtype=torch.float32).to(device)\n"
     ]
    }
   ],
   "source": [
    "model.eval()\n",
    "model.to(device)\n",
    "\n",
    "# Select first 10 samples for testing\n",
    "inputs = X_test[:10]\n",
    "actual_targets = y_test[:10]\n",
    "\n",
    "\n",
    "inputs = torch.tensor(inputs, dtype=torch.float32).to(device)\n",
    "with torch.no_grad():\n",
    "    preds = model(inputs)\n",
    "predicted_coords = torch.round(preds).to(torch.int).cpu().numpy()\n",
    "actual_targets = actual_targets.cpu().numpy()\n",
    "\n",
    "# print(\"Predicted X and Y coordinates:\")\n",
    "# print(predicted_coords)  \n",
    "\n",
    "# print(\"\\nActual X and Y coordinates:\")\n",
    "# print(actual_targets)\n",
    "\n",
    "predicted_classes = torch.argmax(preds, dim=1).cpu().numpy()\n",
    "predicted_x = predicted_classes % 8\n",
    "predicted_y = predicted_classes // 8\n",
    "predicted_coords = np.stack((predicted_x, predicted_y), axis=1) \n",
    "\n",
    "print(\"Predicted X and Y coordinates:\")\n",
    "print(predicted_coords)  \n",
    "\n",
    "# Convert actual class indices to (X, Y) coordinates\n",
    "actual_x = actual_targets % 8\n",
    "actual_y = actual_targets // 8\n",
    "actual_coords = np.stack((actual_x, actual_y), axis=1)  \n",
    "\n",
    "print(\"\\nActual X and Y coordinates:\")\n",
    "print(actual_coords)\n",
    "\n",
    "# Shape: [x,y]"
   ]
  },
  {
   "cell_type": "code",
   "execution_count": null,
   "metadata": {},
   "outputs": [],
   "source": []
  },
  {
   "cell_type": "code",
   "execution_count": 99,
   "metadata": {},
   "outputs": [
    {
     "data": {
      "image/png": "[encoded data removed]",
      "text/plain": [
       "<Figure size 640x480 with 1 Axes>"
      ]
     },
     "metadata": {},
     "output_type": "display_data"
    }
   ],
   "source": [
    "plt.plot(range(len(train_losses)), train_losses, label='Train Loss')\n",
    "plt.plot(range(len(val_losses)), val_losses, label='Validation Loss')\n",
    "plt.xlabel('Epochs')\n",
    "plt.ylabel('Loss')\n",
    "plt.legend()\n",
    "plt.title('Training and Validation Losses')\n",
    "plt.savefig(\"./Figures/training_loss_plot_CNN.png\")  # Save as PNG file\n",
    "plt.show()"
   ]
  }
 ],
 "metadata": {
  "kernelspec": {
   "display_name": ".venv",
   "language": "python",
   "name": "python3"
  },
  "language_info": {
   "codemirror_mode": {
    "name": "ipython",
    "version": 3
   },
   "file_extension": ".py",
   "mimetype": "text/x-python",
   "name": "python",
   "nbconvert_exporter": "python",
   "pygments_lexer": "ipython3",
   "version": "3.11.0"
  }
 },
 "nbformat": 4,
 "nbformat_minor": 2
}
